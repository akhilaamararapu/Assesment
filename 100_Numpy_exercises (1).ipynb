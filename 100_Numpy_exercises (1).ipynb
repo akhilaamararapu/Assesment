{
 "cells": [
  {
   "cell_type": "markdown",
   "id": "6293cc50",
   "metadata": {},
   "source": [
    "# 100 numpy exercises\n",
    "\n",
    "This is a collection of exercises that have been collected in the numpy mailing list, on stack overflow\n",
    "and in the numpy documentation. The goal of this collection is to offer a quick reference for both old\n",
    "and new users but also to provide a set of exercises for those who teach.\n",
    "\n",
    "\n",
    "If you find an error or think you've a better way to solve some of them, feel\n",
    "free to open an issue at <https://github.com/rougier/numpy-100>."
   ]
  },
  {
   "cell_type": "markdown",
   "id": "a167c052",
   "metadata": {},
   "source": [
    "File automatically generated. See the documentation to update questions/answers/hints programmatically."
   ]
  },
  {
   "cell_type": "markdown",
   "id": "57fc0ee5",
   "metadata": {},
   "source": [
    "Run the `initialize.py` module, then for each question you can query the\n",
    "answer or an hint with `hint(n)` or `answer(n)` for `n` question number."
   ]
  },
  {
   "cell_type": "code",
   "execution_count": null,
   "id": "3d46fba2",
   "metadata": {},
   "outputs": [],
   "source": [
    "%run initialise.py"
   ]
  },
  {
   "cell_type": "markdown",
   "id": "3c1222ff",
   "metadata": {},
   "source": [
    "#### 1. Import the numpy package under the name `np` (★☆☆)"
   ]
  },
  {
   "cell_type": "code",
   "execution_count": 3,
   "id": "f52e6a0b",
   "metadata": {},
   "outputs": [],
   "source": [
    "import numpy  as np\n"
   ]
  },
  {
   "cell_type": "markdown",
   "id": "9d9f4753",
   "metadata": {},
   "source": [
    "#### 2. Print the numpy version and the configuration (★☆☆)"
   ]
  },
  {
   "cell_type": "code",
   "execution_count": 4,
   "id": "b7fa5fa1",
   "metadata": {},
   "outputs": [
    {
     "data": {
      "text/plain": [
       "'2.1.3'"
      ]
     },
     "execution_count": 4,
     "metadata": {},
     "output_type": "execute_result"
    }
   ],
   "source": [
    "np.__version__"
   ]
  },
  {
   "cell_type": "code",
   "execution_count": null,
   "id": "083c5c46",
   "metadata": {},
   "outputs": [],
   "source": []
  },
  {
   "cell_type": "markdown",
   "id": "c38bbe82",
   "metadata": {},
   "source": [
    "#### 4. How to find the memory size of any array (★☆☆)"
   ]
  },
  {
   "cell_type": "code",
   "execution_count": 8,
   "id": "02b04021",
   "metadata": {},
   "outputs": [
    {
     "name": "stdout",
     "output_type": "stream",
     "text": [
      "Memory size of array:\n"
     ]
    }
   ],
   "source": [
    "import sys\n",
    "arr = [1,2,3,4,5]\n",
    "print(\"Memory size of array:\")"
   ]
  },
  {
   "cell_type": "markdown",
   "id": "67f893d4",
   "metadata": {},
   "source": [
    "#### 5. How to get the documentation of the numpy add function from the command line? (★☆☆)"
   ]
  },
  {
   "cell_type": "code",
   "execution_count": 9,
   "id": "40e6b70d",
   "metadata": {},
   "outputs": [
    {
     "name": "stdout",
     "output_type": "stream",
     "text": [
      "Help on ufunc:\n",
      "\n",
      "add = <ufunc 'add'>\n",
      "    add(x1, x2, /, out=None, *, where=True, casting='same_kind', order='K', dtype=None, subok=True[, signature])\n",
      "\n",
      "    Add arguments element-wise.\n",
      "\n",
      "    Parameters\n",
      "    ----------\n",
      "    x1, x2 : array_like\n",
      "        The arrays to be added.\n",
      "        If ``x1.shape != x2.shape``, they must be broadcastable to a common\n",
      "        shape (which becomes the shape of the output).\n",
      "    out : ndarray, None, or tuple of ndarray and None, optional\n",
      "        A location into which the result is stored. If provided, it must have\n",
      "        a shape that the inputs broadcast to. If not provided or None,\n",
      "        a freshly-allocated array is returned. A tuple (possible only as a\n",
      "        keyword argument) must have length equal to the number of outputs.\n",
      "    where : array_like, optional\n",
      "        This condition is broadcast over the input. At locations where the\n",
      "        condition is True, the `out` array will be set to the ufunc result.\n",
      "        Elsewhere, the `out` array will retain its original value.\n",
      "        Note that if an uninitialized `out` array is created via the default\n",
      "        ``out=None``, locations within it where the condition is False will\n",
      "        remain uninitialized.\n",
      "    **kwargs\n",
      "        For other keyword-only arguments, see the\n",
      "        :ref:`ufunc docs <ufuncs.kwargs>`.\n",
      "\n",
      "    Returns\n",
      "    -------\n",
      "    add : ndarray or scalar\n",
      "        The sum of `x1` and `x2`, element-wise.\n",
      "        This is a scalar if both `x1` and `x2` are scalars.\n",
      "\n",
      "    Notes\n",
      "    -----\n",
      "    Equivalent to `x1` + `x2` in terms of array broadcasting.\n",
      "\n",
      "    Examples\n",
      "    --------\n",
      "    >>> import numpy as np\n",
      "    >>> np.add(1.0, 4.0)\n",
      "    5.0\n",
      "    >>> x1 = np.arange(9.0).reshape((3, 3))\n",
      "    >>> x2 = np.arange(3.0)\n",
      "    >>> np.add(x1, x2)\n",
      "    array([[  0.,   2.,   4.],\n",
      "           [  3.,   5.,   7.],\n",
      "           [  6.,   8.,  10.]])\n",
      "\n",
      "    The ``+`` operator can be used as a shorthand for ``np.add`` on ndarrays.\n",
      "\n",
      "    >>> x1 = np.arange(9.0).reshape((3, 3))\n",
      "    >>> x2 = np.arange(3.0)\n",
      "    >>> x1 + x2\n",
      "    array([[ 0.,  2.,  4.],\n",
      "           [ 3.,  5.,  7.],\n",
      "           [ 6.,  8., 10.]])\n",
      "\n"
     ]
    }
   ],
   "source": [
    "import numpy as np\n",
    "help(np.add)\n"
   ]
  },
  {
   "cell_type": "markdown",
   "id": "e0c739c6",
   "metadata": {},
   "source": [
    "#### 6. Create a null vector of size 10 but the fifth value which is 1 (★☆☆)"
   ]
  },
  {
   "cell_type": "code",
   "execution_count": 11,
   "id": "bcceacf7",
   "metadata": {},
   "outputs": [
    {
     "name": "stdout",
     "output_type": "stream",
     "text": [
      "[0. 0. 0. 0. 1. 0. 0. 0. 0. 0.]\n"
     ]
    }
   ],
   "source": [
    "import numpy as np\n",
    "\n",
    "# Create a null vector of size 10\n",
    "vector = np.zeros(10)\n",
    "\n",
    "# Set the fifth element to 1 (index 4 in zero-based indexing)\n",
    "vector[4] = 1\n",
    "\n",
    "print(vector)\n"
   ]
  },
  {
   "cell_type": "markdown",
   "id": "fbebedab",
   "metadata": {},
   "source": [
    "#### 7. Create a vector with values ranging from 10 to 49 (★☆☆)"
   ]
  },
  {
   "cell_type": "code",
   "execution_count": null,
   "id": "901dfb51",
   "metadata": {},
   "outputs": [],
   "source": []
  },
  {
   "cell_type": "code",
   "execution_count": 10,
   "id": "3d117d54",
   "metadata": {},
   "outputs": [
    {
     "name": "stdout",
     "output_type": "stream",
     "text": [
      "[10 11 12 13 14 15 16 17 18 19 20 21 22 23 24 25 26 27 28 29 30 31 32 33\n",
      " 34 35 36 37 38 39 40 41 42 43 44 45 46 47 48 49]\n"
     ]
    }
   ],
   "source": [
    "import numpy as np\n",
    "\n",
    "# Create a vector with values from 10 to 49\n",
    "vector = np.arange(10, 50)\n",
    "\n",
    "print(vector)\n"
   ]
  },
  {
   "cell_type": "markdown",
   "id": "ad0bff02",
   "metadata": {},
   "source": [
    "#### 8. Reverse a vector (first element becomes last) (★☆☆)"
   ]
  },
  {
   "cell_type": "code",
   "execution_count": 12,
   "id": "22d23470",
   "metadata": {},
   "outputs": [
    {
     "name": "stdout",
     "output_type": "stream",
     "text": [
      "Original vector: [0 1 2 3 4 5 6 7 8 9]\n",
      "Reversed vector: [9 8 7 6 5 4 3 2 1 0]\n"
     ]
    }
   ],
   "source": [
    "import numpy as np\n",
    "\n",
    "# Create a sample vector\n",
    "vector = np.arange(10)  # Example: [0, 1, 2, ..., 9]\n",
    "\n",
    "# Reverse the vector\n",
    "reversed_vector = vector[::-1]\n",
    "\n",
    "print(\"Original vector:\", vector)\n",
    "print(\"Reversed vector:\", reversed_vector)\n"
   ]
  },
  {
   "cell_type": "markdown",
   "id": "9f59d7e1",
   "metadata": {},
   "source": [
    "#### 9. Create a 3x3 matrix with values ranging from 0 to 8 (★☆☆)"
   ]
  },
  {
   "cell_type": "code",
   "execution_count": 13,
   "id": "7449e82d",
   "metadata": {},
   "outputs": [
    {
     "name": "stdout",
     "output_type": "stream",
     "text": [
      "[[0 1 2]\n",
      " [3 4 5]\n",
      " [6 7 8]]\n"
     ]
    }
   ],
   "source": [
    "import numpy as np\n",
    "\n",
    "# Create a 3x3 matrix with values from 0 to 8\n",
    "matrix = np.arange(9).reshape(3, 3)\n",
    "\n",
    "print(matrix)\n"
   ]
  },
  {
   "cell_type": "markdown",
   "id": "f374c4cf",
   "metadata": {},
   "source": [
    "#### 10. Find indices of non-zero elements from [1,2,0,0,4,0] (★☆☆)"
   ]
  },
  {
   "cell_type": "code",
   "execution_count": 14,
   "id": "1a84bed8",
   "metadata": {},
   "outputs": [
    {
     "name": "stdout",
     "output_type": "stream",
     "text": [
      "Indices of non-zero elements: [0 1 4]\n"
     ]
    }
   ],
   "source": [
    "import numpy as np\n",
    "\n",
    "# Define the array\n",
    "array = np.array([1, 2, 0, 0, 4, 0])\n",
    "\n",
    "# Find the indices of non-zero elements\n",
    "non_zero_indices = np.nonzero(array)\n",
    "\n",
    "print(\"Indices of non-zero elements:\", non_zero_indices[0])\n"
   ]
  },
  {
   "cell_type": "markdown",
   "id": "9c4707f5",
   "metadata": {},
   "source": [
    "#### 11. Create a 3x3 identity matrix (★☆☆)"
   ]
  },
  {
   "cell_type": "code",
   "execution_count": 15,
   "id": "29dc1fd3",
   "metadata": {},
   "outputs": [
    {
     "name": "stdout",
     "output_type": "stream",
     "text": [
      "[[1. 0. 0.]\n",
      " [0. 1. 0.]\n",
      " [0. 0. 1.]]\n"
     ]
    }
   ],
   "source": [
    "import numpy as np\n",
    "\n",
    "# Create a 3x3 identity matrix\n",
    "identity_matrix = np.eye(3)\n",
    "\n",
    "print(identity_matrix)\n"
   ]
  },
  {
   "cell_type": "markdown",
   "id": "3bac294a",
   "metadata": {},
   "source": [
    "#### 12. Create a 3x3x3 array with random values (★☆☆)"
   ]
  },
  {
   "cell_type": "code",
   "execution_count": 16,
   "id": "eadfae67",
   "metadata": {},
   "outputs": [
    {
     "name": "stdout",
     "output_type": "stream",
     "text": [
      "[[[0.86805808 0.580091   0.49950485]\n",
      "  [0.5394291  0.08742332 0.88177192]\n",
      "  [0.43590538 0.53611413 0.57081814]]\n",
      "\n",
      " [[0.72796174 0.14973542 0.14722877]\n",
      "  [0.07717372 0.62300176 0.49780831]\n",
      "  [0.29777332 0.43687047 0.92952172]]\n",
      "\n",
      " [[0.23480998 0.06312892 0.9759961 ]\n",
      "  [0.85160068 0.31366302 0.29626911]\n",
      "  [0.58280011 0.98522799 0.06835941]]]\n"
     ]
    }
   ],
   "source": [
    "import numpy as np\n",
    "\n",
    "# Create a 3x3x3 array with random values\n",
    "random_array = np.random.random((3, 3, 3))\n",
    "\n",
    "print(random_array)\n"
   ]
  },
  {
   "cell_type": "markdown",
   "id": "466c2989",
   "metadata": {},
   "source": [
    "#### 13. Create a 10x10 array with random values and find the minimum and maximum values (★☆☆)"
   ]
  },
  {
   "cell_type": "code",
   "execution_count": 17,
   "id": "9a74dbfc",
   "metadata": {},
   "outputs": [
    {
     "name": "stdout",
     "output_type": "stream",
     "text": [
      "Random Array:\n",
      " [[0.0045945  0.03420472 0.14384169 0.47769463 0.96803989 0.07551192\n",
      "  0.26806418 0.4147329  0.71883382 0.38941347]\n",
      " [0.33166084 0.98452732 0.73108623 0.03019134 0.079305   0.25935778\n",
      "  0.5221438  0.7576973  0.87168604 0.63717597]\n",
      " [0.7335523  0.74331496 0.98954074 0.58953595 0.41017214 0.48375521\n",
      "  0.17944202 0.52735786 0.59591634 0.00876651]\n",
      " [0.6741571  0.13104589 0.22086973 0.44106734 0.65320016 0.12545929\n",
      "  0.22925632 0.46178711 0.45151024 0.89705763]\n",
      " [0.92547084 0.79520729 0.88139879 0.57602854 0.05604787 0.09481166\n",
      "  0.29424033 0.5481203  0.02037147 0.61452006]\n",
      " [0.8932928  0.33030458 0.63362122 0.91446952 0.52777667 0.52042119\n",
      "  0.1165426  0.00139955 0.88203592 0.38311904]\n",
      " [0.90623617 0.92365293 0.88247629 0.49472666 0.43500618 0.24175691\n",
      "  0.67801947 0.36118286 0.99667087 0.15491753]\n",
      " [0.02604415 0.16726615 0.35378238 0.10691601 0.19849586 0.25728292\n",
      "  0.30704064 0.45468462 0.63592832 0.26190799]\n",
      " [0.43732129 0.27198286 0.15167335 0.62555355 0.44363647 0.90236338\n",
      "  0.24375742 0.00473414 0.61392885 0.36121566]\n",
      " [0.91808486 0.44402123 0.47924917 0.63588384 0.43654498 0.30330945\n",
      "  0.69619616 0.13856885 0.84417679 0.81955464]]\n",
      "\n",
      "Minimum Value: 0.0013995508439078597\n",
      "Maximum Value: 0.9966708698151445\n"
     ]
    }
   ],
   "source": [
    "import numpy as np\n",
    "\n",
    "# Create a 10x10 array with random values\n",
    "random_array = np.random.random((10, 10))\n",
    "\n",
    "# Find the minimum and maximum values\n",
    "min_value = np.min(random_array)\n",
    "max_value = np.max(random_array)\n",
    "\n",
    "print(\"Random Array:\\n\", random_array)\n",
    "print(\"\\nMinimum Value:\", min_value)\n",
    "print(\"Maximum Value:\", max_value)\n"
   ]
  },
  {
   "cell_type": "markdown",
   "id": "53a8edb2",
   "metadata": {},
   "source": [
    "#### 14. Create a random vector of size 30 and find the mean value (★☆☆)"
   ]
  },
  {
   "cell_type": "code",
   "execution_count": 1,
   "id": "6691530b",
   "metadata": {},
   "outputs": [
    {
     "name": "stdout",
     "output_type": "stream",
     "text": [
      "Random vector: [0.70682455 0.86079168 0.30640495 0.99408146 0.45356521 0.9418272\n",
      " 0.90877767 0.00301626 0.61773794 0.02424763 0.8837042  0.33851374\n",
      " 0.55812309 0.98479723 0.77009778 0.63484637 0.85295105 0.36036707\n",
      " 0.90603489 0.87756546 0.57718279 0.96190235 0.89177603 0.49500098\n",
      " 0.87703039 0.70719213 0.63749834 0.66793956 0.96549943 0.66421515]\n",
      "Mean value: 0.6809837523990775\n"
     ]
    }
   ],
   "source": [
    "import numpy as np\n",
    "\n",
    "# Create a random vector of size 30\n",
    "random_vector = np.random.rand(30)\n",
    "\n",
    "# Find the mean value\n",
    "mean_value = np.mean(random_vector)\n",
    "\n",
    "print(\"Random vector:\", random_vector)\n",
    "print(\"Mean value:\", mean_value)\n"
   ]
  },
  {
   "cell_type": "markdown",
   "id": "cbaad31c",
   "metadata": {},
   "source": [
    "#### 15. Create a 2d array with 1 on the border and 0 inside (★☆☆)"
   ]
  },
  {
   "cell_type": "code",
   "execution_count": 2,
   "id": "ad8308e3",
   "metadata": {},
   "outputs": [
    {
     "name": "stdout",
     "output_type": "stream",
     "text": [
      "[[1. 1. 1. 1. 1.]\n",
      " [1. 0. 0. 0. 1.]\n",
      " [1. 0. 0. 0. 1.]\n",
      " [1. 0. 0. 0. 1.]\n",
      " [1. 1. 1. 1. 1.]]\n"
     ]
    }
   ],
   "source": [
    "import numpy as np\n",
    "\n",
    "# Create a 2D array of size 5x5 filled with zeros\n",
    "array_2d = np.zeros((5, 5))\n",
    "\n",
    "# Set the borders to 1\n",
    "array_2d[0, :] = 1\n",
    "array_2d[-1, :] = 1\n",
    "array_2d[:, 0] = 1\n",
    "array_2d[:, -1] = 1\n",
    "\n",
    "print(array_2d)\n",
    "\n"
   ]
  },
  {
   "cell_type": "markdown",
   "id": "c5ecc267",
   "metadata": {},
   "source": [
    "#### 16. How to add a border (filled with 0's) around an existing array? (★☆☆)"
   ]
  },
  {
   "cell_type": "code",
   "execution_count": 3,
   "id": "9d5c78c4",
   "metadata": {},
   "outputs": [
    {
     "name": "stdout",
     "output_type": "stream",
     "text": [
      "Original array:\n",
      "[[1. 1. 1.]\n",
      " [1. 1. 1.]\n",
      " [1. 1. 1.]]\n",
      "Array with border:\n",
      "[[0. 0. 0. 0. 0.]\n",
      " [0. 1. 1. 1. 0.]\n",
      " [0. 1. 1. 1. 0.]\n",
      " [0. 1. 1. 1. 0.]\n",
      " [0. 0. 0. 0. 0.]]\n"
     ]
    }
   ],
   "source": [
    "import numpy as np\n",
    "\n",
    "# Create an example array\n",
    "original_array = np.ones((3, 3))\n",
    "\n",
    "# Add a border of 0s around the original array\n",
    "bordered_array = np.pad(original_array, pad_width=1, mode='constant', constant_values=0)\n",
    "\n",
    "print(\"Original array:\")\n",
    "print(original_array)\n",
    "print(\"Array with border:\")\n",
    "print(bordered_array)\n"
   ]
  },
  {
   "cell_type": "markdown",
   "id": "ef909b72",
   "metadata": {},
   "source": [
    "#### 17. What is the result of the following expression? (★☆☆)\n",
    "```python\n",
    "0 * np.nan\n",
    "np.nan == np.nan\n",
    "np.inf > np.nan\n",
    "np.nan - np.nan\n",
    "np.nan in set([np.nan])\n",
    "0.3 == 3 * 0.1\n",
    "```"
   ]
  },
  {
   "cell_type": "code",
   "execution_count": 4,
   "id": "3b4985f2",
   "metadata": {},
   "outputs": [
    {
     "data": {
      "text/plain": [
       "False"
      ]
     },
     "execution_count": 4,
     "metadata": {},
     "output_type": "execute_result"
    }
   ],
   "source": [
    "0 * np.nan  # nan\n",
    "np.nan == np.nan  # False\n",
    "np.inf > np.nan  # False\n",
    "np.nan - np.nan  # nan\n",
    "np.nan in set([np.nan])  # True\n",
    "0.3 == 3 * 0.1  # False\n"
   ]
  },
  {
   "cell_type": "markdown",
   "id": "502738ac",
   "metadata": {},
   "source": [
    "#### 18. Create a 5x5 matrix with values 1,2,3,4 just below the diagonal (★☆☆)"
   ]
  },
  {
   "cell_type": "code",
   "execution_count": 5,
   "id": "faed6e2b",
   "metadata": {},
   "outputs": [
    {
     "name": "stdout",
     "output_type": "stream",
     "text": [
      "[[0. 0. 0. 0. 0.]\n",
      " [1. 0. 0. 0. 0.]\n",
      " [0. 2. 0. 0. 0.]\n",
      " [0. 0. 3. 0. 0.]\n",
      " [0. 0. 0. 4. 0.]]\n"
     ]
    }
   ],
   "source": [
    "import numpy as np\n",
    "\n",
    "# Create a 5x5 matrix of zeros\n",
    "matrix = np.zeros((5, 5))\n",
    "\n",
    "# Assign values just below the diagonal\n",
    "for i in range(1, 5):\n",
    "    matrix[i, i-1] = i\n",
    "\n",
    "print(matrix)\n"
   ]
  },
  {
   "cell_type": "markdown",
   "id": "a65da660",
   "metadata": {},
   "source": [
    "#### 19. Create a 8x8 matrix and fill it with a checkerboard pattern (★☆☆)"
   ]
  },
  {
   "cell_type": "code",
   "execution_count": 6,
   "id": "ed150400",
   "metadata": {},
   "outputs": [
    {
     "name": "stdout",
     "output_type": "stream",
     "text": [
      "[[0 1 0 1 0 1 0 1]\n",
      " [1 0 1 0 1 0 1 0]\n",
      " [0 1 0 1 0 1 0 1]\n",
      " [1 0 1 0 1 0 1 0]\n",
      " [0 1 0 1 0 1 0 1]\n",
      " [1 0 1 0 1 0 1 0]\n",
      " [0 1 0 1 0 1 0 1]\n",
      " [1 0 1 0 1 0 1 0]]\n"
     ]
    }
   ],
   "source": [
    "import numpy as np\n",
    "\n",
    "# Create an 8x8 matrix of zeros\n",
    "checkerboard = np.zeros((8, 8), dtype=int)\n",
    "\n",
    "# Fill the checkerboard pattern\n",
    "checkerboard[1::2, ::2] = 1\n",
    "checkerboard[::2, 1::2] = 1\n",
    "\n",
    "print(checkerboard)\n"
   ]
  },
  {
   "cell_type": "markdown",
   "id": "9f7f9c49",
   "metadata": {},
   "source": [
    "#### 20. Consider a (6,7,8) shape array, what is the index (x,y,z) of the 100th element? (★☆☆)"
   ]
  },
  {
   "cell_type": "code",
   "execution_count": 7,
   "id": "3782b5a9",
   "metadata": {},
   "outputs": [
    {
     "name": "stdout",
     "output_type": "stream",
     "text": [
      "(1, 5, 4)\n"
     ]
    }
   ],
   "source": [
    "import numpy as np\n",
    "\n",
    "# Array shape\n",
    "shape = (6, 7, 8)\n",
    "\n",
    "# Find the index of the 100th element (considering 0-based indexing)\n",
    "index = np.unravel_index(100, shape)\n",
    "\n",
    "print(index)\n"
   ]
  },
  {
   "cell_type": "markdown",
   "id": "66bfda35",
   "metadata": {},
   "source": [
    "#### 21. Create a checkerboard 8x8 matrix using the tile function (★☆☆)"
   ]
  },
  {
   "cell_type": "code",
   "execution_count": 8,
   "id": "4c07477c",
   "metadata": {},
   "outputs": [
    {
     "name": "stdout",
     "output_type": "stream",
     "text": [
      "[[0 1 0 1 0 1 0 1]\n",
      " [1 0 1 0 1 0 1 0]\n",
      " [0 1 0 1 0 1 0 1]\n",
      " [1 0 1 0 1 0 1 0]\n",
      " [0 1 0 1 0 1 0 1]\n",
      " [1 0 1 0 1 0 1 0]\n",
      " [0 1 0 1 0 1 0 1]\n",
      " [1 0 1 0 1 0 1 0]]\n"
     ]
    }
   ],
   "source": [
    "import numpy as np\n",
    "\n",
    "# Create a 2x2 checkerboard pattern\n",
    "checkerboard_pattern = np.array([[0, 1], [1, 0]])\n",
    "\n",
    "# Tile the 2x2 pattern to create an 8x8 matrix\n",
    "checkerboard_matrix = np.tile(checkerboard_pattern, (4, 4))\n",
    "\n",
    "print(checkerboard_matrix)\n"
   ]
  },
  {
   "cell_type": "markdown",
   "id": "d5bcfc08",
   "metadata": {},
   "source": [
    "#### 22. Normalize a 5x5 random matrix (★☆☆)"
   ]
  },
  {
   "cell_type": "code",
   "execution_count": 9,
   "id": "cea6c993",
   "metadata": {},
   "outputs": [
    {
     "name": "stdout",
     "output_type": "stream",
     "text": [
      "Random matrix:\n",
      "[[0.57631526 0.71059656 0.49803722 0.3497091  0.04649968]\n",
      " [0.54810868 0.42299496 0.83785899 0.20650831 0.76630498]\n",
      " [0.24771813 0.44101044 0.7700668  0.67897254 0.6360358 ]\n",
      " [0.52587239 0.16684869 0.61724172 0.82542518 0.19705846]\n",
      " [0.92712913 0.28173401 0.81609772 0.39910922 0.09121873]]\n",
      "Normalized matrix:\n",
      "[[0.60163282 0.75411614 0.51274408 0.34430987 0.        ]\n",
      " [0.5696028  0.42752974 0.89862917 0.18169803 0.81737592]\n",
      " [0.22849389 0.44798724 0.82164766 0.71820543 0.66944856]\n",
      " [0.54435235 0.13666249 0.64810692 0.88450994 0.17096723]\n",
      " [1.         0.26712067 0.87391813 0.40040626 0.05078078]]\n"
     ]
    }
   ],
   "source": [
    "import numpy as np\n",
    "\n",
    "# Create a 5x5 random matrix\n",
    "random_matrix = np.random.rand(5, 5)\n",
    "\n",
    "# Normalize the matrix\n",
    "normalized_matrix = (random_matrix - np.min(random_matrix)) / (np.max(random_matrix) - np.min(random_matrix))\n",
    "\n",
    "print(\"Random matrix:\")\n",
    "print(random_matrix)\n",
    "print(\"Normalized matrix:\")\n",
    "print(normalized_matrix)\n"
   ]
  },
  {
   "cell_type": "markdown",
   "id": "f9a0911e",
   "metadata": {},
   "source": [
    "#### 23. Create a custom dtype that describes a color as four unsigned bytes (RGBA) (★☆☆)"
   ]
  },
  {
   "cell_type": "code",
   "execution_count": 10,
   "id": "d165044b",
   "metadata": {},
   "outputs": [
    {
     "name": "stdout",
     "output_type": "stream",
     "text": [
      "[(255, 0, 0, 255)]\n"
     ]
    }
   ],
   "source": [
    "import numpy as np\n",
    "\n",
    "# Define the custom dtype\n",
    "color_dtype = np.dtype([\n",
    "    ('red', np.uint8),\n",
    "    ('green', np.uint8),\n",
    "    ('blue', np.uint8),\n",
    "    ('alpha', np.uint8)\n",
    "])\n",
    "\n",
    "# Example usage\n",
    "color = np.array([(255, 0, 0, 255)], dtype=color_dtype)\n",
    "\n",
    "print(color)\n"
   ]
  },
  {
   "cell_type": "markdown",
   "id": "654805b1",
   "metadata": {},
   "source": [
    "#### 24. Multiply a 5x3 matrix by a 3x2 matrix (real matrix product) (★☆☆)"
   ]
  },
  {
   "cell_type": "code",
   "execution_count": 11,
   "id": "6a42619f",
   "metadata": {},
   "outputs": [
    {
     "name": "stdout",
     "output_type": "stream",
     "text": [
      "5x3 matrix:\n",
      "[[0.33143143 0.69382596 0.2716002 ]\n",
      " [0.50242342 0.63934716 0.57342103]\n",
      " [0.66452782 0.63163296 0.46394543]\n",
      " [0.48003562 0.67095619 0.15365978]\n",
      " [0.04619684 0.68893738 0.57545821]]\n",
      "3x2 matrix:\n",
      "[[0.78986847 0.61336678]\n",
      " [0.41645649 0.2162926 ]\n",
      " [0.95371713 0.15666728]]\n",
      "Resulting 5x2 matrix after multiplication:\n",
      "[[0.80976532 0.39590931]\n",
      " [1.20999015 0.5362922 ]\n",
      " [1.23040992 0.61690189]\n",
      " [0.80513702 0.46363422]\n",
      " [0.87222622 0.26750313]]\n"
     ]
    }
   ],
   "source": [
    "import numpy as np\n",
    "\n",
    "# Define a 5x3 matrix\n",
    "matrix_5x3 = np.random.rand(5, 3)\n",
    "\n",
    "# Define a 3x2 matrix\n",
    "matrix_3x2 = np.random.rand(3, 2)\n",
    "\n",
    "# Multiply the two matrices\n",
    "result_matrix = np.dot(matrix_5x3, matrix_3x2)\n",
    "\n",
    "print(\"5x3 matrix:\")\n",
    "print(matrix_5x3)\n",
    "print(\"3x2 matrix:\")\n",
    "print(matrix_3x2)\n",
    "print(\"Resulting 5x2 matrix after multiplication:\")\n",
    "print(result_matrix)\n"
   ]
  },
  {
   "cell_type": "markdown",
   "id": "994c25df",
   "metadata": {},
   "source": [
    "#### 25. Given a 1D array, negate all elements which are between 3 and 8, in place. (★☆☆)"
   ]
  },
  {
   "cell_type": "code",
   "execution_count": 12,
   "id": "e4b39c03",
   "metadata": {},
   "outputs": [
    {
     "name": "stdout",
     "output_type": "stream",
     "text": [
      "[ 1  2  3 -4 -5 -6 -7  8  9 10]\n"
     ]
    }
   ],
   "source": [
    "import numpy as np\n",
    "\n",
    "# Create a 1D array\n",
    "array = np.array([1, 2, 3, 4, 5, 6, 7, 8, 9, 10])\n",
    "\n",
    "# Negate all elements which are between 3 and 8\n",
    "array[(array > 3) & (array < 8)] *= -1\n",
    "\n",
    "print(array)\n"
   ]
  },
  {
   "cell_type": "markdown",
   "id": "b7d15d1a",
   "metadata": {},
   "source": [
    "#### 26. What is the output of the following script? (★☆☆)\n",
    "```python\n",
    "# Author: Jake VanderPlas\n",
    "\n",
    "print(sum(range(5),-1))\n",
    "from numpy import *\n",
    "print(sum(range(5),-1))\n",
    "```"
   ]
  },
  {
   "cell_type": "code",
   "execution_count": 13,
   "id": "4c95bc3f",
   "metadata": {},
   "outputs": [
    {
     "name": "stdout",
     "output_type": "stream",
     "text": [
      "9\n",
      "10\n"
     ]
    }
   ],
   "source": [
    "# Author: Jake VanderPlas\n",
    "\n",
    "print(sum(range(5),-1))\n",
    "from numpy import *\n",
    "print(sum(range(5),-1))\n"
   ]
  },
  {
   "cell_type": "markdown",
   "id": "a34f0d08",
   "metadata": {},
   "source": [
    "#### 27. Consider an integer vector Z, which of these expressions are legal? (★☆☆)\n",
    "```python\n",
    "Z**Z\n",
    "2 << Z >> 2\n",
    "Z <- Z\n",
    "1j*Z\n",
    "Z/1/1\n",
    "Z<Z>Z\n",
    "```"
   ]
  },
  {
   "cell_type": "code",
   "execution_count": 14,
   "id": "564658fc",
   "metadata": {},
   "outputs": [
    {
     "name": "stdout",
     "output_type": "stream",
     "text": [
      "Results of legal expressions:\n",
      "Z**Z: [  1   4  27 256]\n",
      "2 << Z >> 2: [1 2 4 8]\n",
      "1j * Z: [0.+1.j 0.+2.j 0.+3.j 0.+4.j]\n",
      "Z / 1 / 1: [1. 2. 3. 4.]\n",
      "\n",
      "Illegal expressions:\n",
      "Z <- Z: Not a valid Python expression\n",
      "Z < Z > Z: Not a valid Python expression\n"
     ]
    }
   ],
   "source": [
    "import numpy as np\n",
    "\n",
    "# Create an example integer vector Z\n",
    "Z = np.array([1, 2, 3, 4])\n",
    "\n",
    "# Evaluate each expression\n",
    "results = {\n",
    "    \"Z**Z\": Z**Z,  # Legal, element-wise exponentiation\n",
    "    \"2 << Z >> 2\": 2 << Z >> 2,  # Legal, bitwise shift operations\n",
    "    \"1j * Z\": 1j * Z,  # Legal, complex number multiplication\n",
    "    \"Z / 1 / 1\": Z / 1 / 1  # Legal, element-wise division\n",
    "}\n",
    "\n",
    "print(\"Results of legal expressions:\")\n",
    "for expr, result in results.items():\n",
    "    print(f\"{expr}: {result}\")\n",
    "\n",
    "# Explanation of illegal expressions\n",
    "illegal_expressions = [\n",
    "    \"Z <- Z\",  # Not legal, syntax error due to non-existent operator\n",
    "    \"Z < Z > Z\"  # Not legal, chained comparison doesn't make sense in this context\n",
    "]\n",
    "\n",
    "print(\"\\nIllegal expressions:\")\n",
    "for expr in illegal_expressions:\n",
    "    print(f\"{expr}: Not a valid Python expression\")\n"
   ]
  },
  {
   "cell_type": "markdown",
   "id": "c34e94bf",
   "metadata": {},
   "source": [
    "#### 28. What are the result of the following expressions? (★☆☆)\n",
    "```python\n",
    "np.array(0) / np.array(0)\n",
    "np.array(0) // np.array(0)\n",
    "np.array([np.nan]).astype(int).astype(float)\n",
    "```"
   ]
  },
  {
   "cell_type": "code",
   "execution_count": 15,
   "id": "56663562",
   "metadata": {},
   "outputs": [
    {
     "name": "stdout",
     "output_type": "stream",
     "text": [
      "nan\n"
     ]
    },
    {
     "name": "stderr",
     "output_type": "stream",
     "text": [
      "C:\\Users\\Akhila\\AppData\\Local\\Temp\\ipykernel_5052\\2885398111.py:1: RuntimeWarning: invalid value encountered in divide\n",
      "  result1 = np.array(0) / np.array(0)\n"
     ]
    }
   ],
   "source": [
    "result1 = np.array(0) / np.array(0)\n",
    "print(result1)  # Outputs: nan with a warning\n"
   ]
  },
  {
   "cell_type": "markdown",
   "id": "546f5e7b",
   "metadata": {},
   "source": [
    "#### 29. How to round away from zero a float array ? (★☆☆)"
   ]
  },
  {
   "cell_type": "code",
   "execution_count": 16,
   "id": "f725a6d2",
   "metadata": {},
   "outputs": [
    {
     "name": "stdout",
     "output_type": "stream",
     "text": [
      "Original array:\n",
      "[-1.5 -0.2  0.2  1.5  2.7 -2.7]\n",
      "Rounded away from zero:\n",
      "[-2. -1.  1.  2.  3. -3.]\n"
     ]
    }
   ],
   "source": [
    "import numpy as np\n",
    "\n",
    "# Create a float array\n",
    "float_array = np.array([-1.5, -0.2, 0.2, 1.5, 2.7, -2.7])\n",
    "\n",
    "# Round away from zero\n",
    "rounded_array = np.copysign(np.ceil(np.abs(float_array)), float_array)\n",
    "\n",
    "print(\"Original array:\")\n",
    "print(float_array)\n",
    "print(\"Rounded away from zero:\")\n",
    "print(rounded_array)\n"
   ]
  },
  {
   "cell_type": "markdown",
   "id": "eadca856",
   "metadata": {},
   "source": [
    "#### 30. How to find common values between two arrays? (★☆☆)"
   ]
  },
  {
   "cell_type": "code",
   "execution_count": 17,
   "id": "e0270b5b",
   "metadata": {},
   "outputs": [
    {
     "name": "stdout",
     "output_type": "stream",
     "text": [
      "Common values: [4 5]\n"
     ]
    }
   ],
   "source": [
    "import numpy as np\n",
    "\n",
    "# Create two arrays\n",
    "array1 = np.array([1, 2, 3, 4, 5])\n",
    "array2 = np.array([4, 5, 6, 7, 8])\n",
    "\n",
    "# Find common values\n",
    "common_values = np.intersect1d(array1, array2)\n",
    "\n",
    "print(\"Common values:\", common_values)\n"
   ]
  },
  {
   "cell_type": "markdown",
   "id": "ca16ca22",
   "metadata": {},
   "source": [
    "#### 31. How to ignore all numpy warnings (not recommended)? (★☆☆)"
   ]
  },
  {
   "cell_type": "code",
   "execution_count": 18,
   "id": "7d7208ef",
   "metadata": {},
   "outputs": [
    {
     "name": "stdout",
     "output_type": "stream",
     "text": [
      "[ inf  nan -inf]\n"
     ]
    },
    {
     "data": {
      "text/plain": [
       "{'divide': 'ignore', 'over': 'ignore', 'under': 'ignore', 'invalid': 'ignore'}"
      ]
     },
     "execution_count": 18,
     "metadata": {},
     "output_type": "execute_result"
    }
   ],
   "source": [
    "import numpy as np\n",
    "\n",
    "# Ignore all warnings\n",
    "np.seterr(all='ignore')\n",
    "\n",
    "# Your code that might produce warnings\n",
    "result = np.array([1, 0, -1]) / np.array([0, 0, 0])\n",
    "print(result)\n",
    "\n",
    "# Restore the original error handling\n",
    "np.seterr(all='warn')\n"
   ]
  },
  {
   "cell_type": "markdown",
   "id": "c7871d0d",
   "metadata": {},
   "source": [
    "#### 32. Is the following expressions true? (★☆☆)\n",
    "```python\n",
    "np.sqrt(-1) == np.emath.sqrt(-1)\n",
    "```"
   ]
  },
  {
   "cell_type": "code",
   "execution_count": 19,
   "id": "acc3701a",
   "metadata": {},
   "outputs": [
    {
     "name": "stdout",
     "output_type": "stream",
     "text": [
      "np.sqrt(-1): nan\n",
      "np.emath.sqrt(-1): 1j\n",
      "Are they equal? False\n"
     ]
    },
    {
     "name": "stderr",
     "output_type": "stream",
     "text": [
      "C:\\Users\\Akhila\\AppData\\Local\\Temp\\ipykernel_5052\\3968573124.py:4: RuntimeWarning: invalid value encountered in sqrt\n",
      "  standard_sqrt = np.sqrt(-1)\n"
     ]
    }
   ],
   "source": [
    "import numpy as np\n",
    "\n",
    "# Calculate square root using standard numpy sqrt\n",
    "standard_sqrt = np.sqrt(-1)\n",
    "\n",
    "# Calculate square root using numpy emath sqrt\n",
    "emath_sqrt = np.emath.sqrt(-1)\n",
    "\n",
    "# Compare the results\n",
    "result = (standard_sqrt == emath_sqrt)\n",
    "\n",
    "print(\"np.sqrt(-1):\", standard_sqrt)\n",
    "print(\"np.emath.sqrt(-1):\", emath_sqrt)\n",
    "print(\"Are they equal?\", result)\n"
   ]
  },
  {
   "cell_type": "markdown",
   "id": "e0433e30",
   "metadata": {},
   "source": [
    "#### 33. How to get the dates of yesterday, today and tomorrow? (★☆☆)"
   ]
  },
  {
   "cell_type": "code",
   "execution_count": 20,
   "id": "9c4d2152",
   "metadata": {},
   "outputs": [
    {
     "name": "stdout",
     "output_type": "stream",
     "text": [
      "Yesterday's date: 2024-12-08\n",
      "Today's date: 2024-12-09\n",
      "Tomorrow's date: 2024-12-10\n"
     ]
    }
   ],
   "source": [
    "from datetime import datetime, timedelta\n",
    "\n",
    "# Get today's date\n",
    "today = datetime.now().date()\n",
    "\n",
    "# Calculate yesterday and tomorrow\n",
    "yesterday = today - timedelta(days=1)\n",
    "tomorrow = today + timedelta(days=1)\n",
    "\n",
    "print(\"Yesterday's date:\", yesterday)\n",
    "print(\"Today's date:\", today)\n",
    "print(\"Tomorrow's date:\", tomorrow)\n"
   ]
  },
  {
   "cell_type": "markdown",
   "id": "9f52a2ef",
   "metadata": {},
   "source": [
    "#### 34. How to get all the dates corresponding to the month of July 2016? (★★☆)"
   ]
  },
  {
   "cell_type": "code",
   "execution_count": 21,
   "id": "d6c34dec",
   "metadata": {},
   "outputs": [
    {
     "name": "stdout",
     "output_type": "stream",
     "text": [
      "[datetime.date(2016, 7, 1), datetime.date(2016, 7, 2), datetime.date(2016, 7, 3), datetime.date(2016, 7, 4), datetime.date(2016, 7, 5), datetime.date(2016, 7, 6), datetime.date(2016, 7, 7), datetime.date(2016, 7, 8), datetime.date(2016, 7, 9), datetime.date(2016, 7, 10), datetime.date(2016, 7, 11), datetime.date(2016, 7, 12), datetime.date(2016, 7, 13), datetime.date(2016, 7, 14), datetime.date(2016, 7, 15), datetime.date(2016, 7, 16), datetime.date(2016, 7, 17), datetime.date(2016, 7, 18), datetime.date(2016, 7, 19), datetime.date(2016, 7, 20), datetime.date(2016, 7, 21), datetime.date(2016, 7, 22), datetime.date(2016, 7, 23), datetime.date(2016, 7, 24), datetime.date(2016, 7, 25), datetime.date(2016, 7, 26), datetime.date(2016, 7, 27), datetime.date(2016, 7, 28), datetime.date(2016, 7, 29), datetime.date(2016, 7, 30), datetime.date(2016, 7, 31)]\n"
     ]
    }
   ],
   "source": [
    "from datetime import date, timedelta\n",
    "\n",
    "# Start and end dates for July 2016\n",
    "start_date = date(2016, 7, 1)\n",
    "end_date = date(2016, 7, 31)\n",
    "\n",
    "# Generate all dates in July 2016\n",
    "july_dates = [start_date + timedelta(days=i) for i in range((end_date - start_date).days + 1)]\n",
    "\n",
    "print(july_dates)\n"
   ]
  },
  {
   "cell_type": "markdown",
   "id": "4a64e059",
   "metadata": {},
   "source": [
    "#### 35. How to compute ((A+B)*(-A/2)) in place (without copy)? (★★☆)"
   ]
  },
  {
   "cell_type": "code",
   "execution_count": 24,
   "id": "49267f60",
   "metadata": {},
   "outputs": [
    {
     "ename": "UFuncTypeError",
     "evalue": "Cannot cast ufunc 'divide' output from dtype('float64') to dtype('int32') with casting rule 'same_kind'",
     "output_type": "error",
     "traceback": [
      "\u001b[1;31m---------------------------------------------------------------------------\u001b[0m",
      "\u001b[1;31mUFuncTypeError\u001b[0m                            Traceback (most recent call last)",
      "Cell \u001b[1;32mIn[24], line 9\u001b[0m\n\u001b[0;32m      7\u001b[0m \u001b[38;5;66;03m# Perform the computation in place\u001b[39;00m\n\u001b[0;32m      8\u001b[0m np\u001b[38;5;241m.\u001b[39madd(A, B, out\u001b[38;5;241m=\u001b[39mA)    \u001b[38;5;66;03m# A now contains A + B\u001b[39;00m\n\u001b[1;32m----> 9\u001b[0m np\u001b[38;5;241m.\u001b[39mdivide(A, \u001b[38;5;241m-\u001b[39m\u001b[38;5;241m2\u001b[39m, out\u001b[38;5;241m=\u001b[39mA)  \u001b[38;5;66;03m# A now contains (A + B) * (-1/2)\u001b[39;00m\n\u001b[0;32m     11\u001b[0m \u001b[38;5;28mprint\u001b[39m(A)\n",
      "\u001b[1;31mUFuncTypeError\u001b[0m: Cannot cast ufunc 'divide' output from dtype('float64') to dtype('int32') with casting rule 'same_kind'"
     ]
    }
   ],
   "source": [
    "import numpy as np\n",
    "\n",
    "# Example arrays\n",
    "A = np.array([1, 2, 3])\n",
    "B = np.array([4, 5, 6])\n",
    "\n",
    "# Perform the computation in place\n",
    "np.add(A, B, out=A)    # A now contains A + B\n",
    "np.divide(A, -2, out=A)  # A now contains (A + B) * (-1/2)\n",
    "\n",
    "print(A)\n",
    "\n"
   ]
  },
  {
   "cell_type": "markdown",
   "id": "8a98c2a8",
   "metadata": {},
   "source": [
    "#### 36. Extract the integer part of a random array of positive numbers using 4 different methods (★★☆)"
   ]
  },
  {
   "cell_type": "code",
   "execution_count": 25,
   "id": "368130b3",
   "metadata": {},
   "outputs": [
    {
     "name": "stdout",
     "output_type": "stream",
     "text": [
      "Random array: [49.74708529 13.16763032 27.20219663 57.98139461 11.26043376]\n",
      "Integer part (floor): [49. 13. 27. 57. 11.]\n"
     ]
    }
   ],
   "source": [
    "import numpy as np\n",
    "\n",
    "# Create a random array of positive numbers\n",
    "random_array = np.random.rand(5) * 100\n",
    "\n",
    "# Extract the integer part using np.floor\n",
    "integer_part_floor = np.floor(random_array)\n",
    "\n",
    "print(\"Random array:\", random_array)\n",
    "print(\"Integer part (floor):\", integer_part_floor)\n"
   ]
  },
  {
   "cell_type": "markdown",
   "id": "5a2e3d85",
   "metadata": {},
   "source": [
    "#### 37. Create a 5x5 matrix with row values ranging from 0 to 4 (★★☆)"
   ]
  },
  {
   "cell_type": "code",
   "execution_count": 26,
   "id": "1d974e8f",
   "metadata": {},
   "outputs": [
    {
     "name": "stdout",
     "output_type": "stream",
     "text": [
      "[[0. 1. 2. 3. 4.]\n",
      " [0. 1. 2. 3. 4.]\n",
      " [0. 1. 2. 3. 4.]\n",
      " [0. 1. 2. 3. 4.]\n",
      " [0. 1. 2. 3. 4.]]\n"
     ]
    }
   ],
   "source": [
    "import numpy as np\n",
    "\n",
    "# Create a 5x5 matrix with row values ranging from 0 to 4\n",
    "matrix = np.zeros((5, 5))\n",
    "matrix += np.arange(5)\n",
    "\n",
    "print(matrix)\n"
   ]
  },
  {
   "cell_type": "markdown",
   "id": "9720e2d5",
   "metadata": {},
   "source": [
    "#### 38. Consider a generator function that generates 10 integers and use it to build an array (★☆☆)"
   ]
  },
  {
   "cell_type": "code",
   "execution_count": 27,
   "id": "e5dd8fc9",
   "metadata": {},
   "outputs": [
    {
     "name": "stdout",
     "output_type": "stream",
     "text": [
      "[0 1 2 3 4 5 6 7 8 9]\n"
     ]
    }
   ],
   "source": [
    "import numpy as np\n",
    "\n",
    "# Generator function that yields 10 integers\n",
    "def generate_integers():\n",
    "    for i in range(10):\n",
    "        yield i\n",
    "\n",
    "# Use the generator to create an array\n",
    "integer_generator = generate_integers()\n",
    "integer_array = np.fromiter(integer_generator, dtype=int)\n",
    "\n",
    "print(integer_array)\n"
   ]
  },
  {
   "cell_type": "markdown",
   "id": "c6f2c912",
   "metadata": {},
   "source": [
    "#### 39. Create a vector of size 10 with values ranging from 0 to 1, both excluded (★★☆)"
   ]
  },
  {
   "cell_type": "code",
   "execution_count": 28,
   "id": "6aaa27d3",
   "metadata": {},
   "outputs": [
    {
     "name": "stdout",
     "output_type": "stream",
     "text": [
      "[0.09090909 0.18181818 0.27272727 0.36363636 0.45454545 0.54545455\n",
      " 0.63636364 0.72727273 0.81818182 0.90909091]\n"
     ]
    }
   ],
   "source": [
    "import numpy as np\n",
    "\n",
    "# Create a vector of size 10 with values ranging from 0 to 1, both excluded\n",
    "vector = np.linspace(0, 1, 12)[1:-1]\n",
    "\n",
    "print(vector)\n"
   ]
  },
  {
   "cell_type": "markdown",
   "id": "a36d6ee4",
   "metadata": {},
   "source": [
    "#### 40. Create a random vector of size 10 and sort it (★★☆)"
   ]
  },
  {
   "cell_type": "code",
   "execution_count": 29,
   "id": "e589d216",
   "metadata": {},
   "outputs": [
    {
     "name": "stdout",
     "output_type": "stream",
     "text": [
      "Random vector:\n",
      "[0.72183182 0.26301641 0.08606814 0.25932464 0.58001122 0.43428971\n",
      " 0.27571006 0.43780902 0.22766586 0.11209889]\n",
      "Sorted vector:\n",
      "[0.08606814 0.11209889 0.22766586 0.25932464 0.26301641 0.27571006\n",
      " 0.43428971 0.43780902 0.58001122 0.72183182]\n"
     ]
    }
   ],
   "source": [
    "import numpy as np\n",
    "\n",
    "# Create a random vector of size 10\n",
    "random_vector = np.random.rand(10)\n",
    "\n",
    "# Sort the vector\n",
    "sorted_vector = np.sort(random_vector)\n",
    "\n",
    "print(\"Random vector:\")\n",
    "print(random_vector)\n",
    "print(\"Sorted vector:\")\n",
    "print(sorted_vector)\n"
   ]
  },
  {
   "cell_type": "markdown",
   "id": "0fb4ad68",
   "metadata": {},
   "source": [
    "#### 41. How to sum a small array faster than np.sum? (★★☆)"
   ]
  },
  {
   "cell_type": "code",
   "execution_count": 30,
   "id": "a1ba05a0",
   "metadata": {},
   "outputs": [
    {
     "name": "stdout",
     "output_type": "stream",
     "text": [
      "np.sum result: 5.282546043064828\n",
      "Built-in sum result: 5.282546043064828\n"
     ]
    }
   ],
   "source": [
    "import numpy as np\n",
    "\n",
    "# Create a small random array\n",
    "small_array = np.random.rand(10)\n",
    "\n",
    "# Using np.sum()\n",
    "np_sum_result = np.sum(small_array)\n",
    "\n",
    "# Using Python's built-in sum()\n",
    "builtin_sum_result = sum(small_array)\n",
    "\n",
    "print(\"np.sum result:\", np_sum_result)\n",
    "print(\"Built-in sum result:\", builtin_sum_result)\n"
   ]
  },
  {
   "cell_type": "markdown",
   "id": "024ac365",
   "metadata": {},
   "source": [
    "#### 4 2.Consider two random array A and B, check if they are equal (★★☆)"
   ]
  },
  {
   "cell_type": "code",
   "execution_count": 31,
   "id": "7db3846d",
   "metadata": {},
   "outputs": [
    {
     "name": "stdout",
     "output_type": "stream",
     "text": [
      "Array A: [0.92063112 0.03045499 0.77051599 0.8458449  0.34798917]\n",
      "Array B: [0.9586076  0.8995366  0.06006407 0.60231981 0.9864511 ]\n",
      "Are they equal? False\n"
     ]
    }
   ],
   "source": [
    "import numpy as np\n",
    "\n",
    "# Create two random arrays\n",
    "A = np.random.rand(5)\n",
    "B = np.random.rand(5)\n",
    "\n",
    "# Check if they are equal\n",
    "are_equal = np.array_equal(A, B)\n",
    "\n",
    "print(\"Array A:\", A)\n",
    "print(\"Array B:\", B)\n",
    "print(\"Are they equal?\", are_equal)\n"
   ]
  },
  {
   "cell_type": "markdown",
   "id": "c68d2401",
   "metadata": {},
   "source": [
    "#### 43. Make an array immutable (read-only) (★★☆)"
   ]
  },
  {
   "cell_type": "code",
   "execution_count": 32,
   "id": "7828539d",
   "metadata": {},
   "outputs": [
    {
     "name": "stdout",
     "output_type": "stream",
     "text": [
      "Array: [0.93462634 0.89418011 0.56226837 0.74624664 0.91728398]\n",
      "Error: assignment destination is read-only\n"
     ]
    }
   ],
   "source": [
    "import numpy as np\n",
    "\n",
    "# Create a random array\n",
    "array = np.random.rand(5)\n",
    "\n",
    "# Make the array read-only\n",
    "array.flags.writeable = False\n",
    "\n",
    "print(\"Array:\", array)\n",
    "\n",
    "# Try to modify the array (this will raise an error)\n",
    "try:\n",
    "    array[0] = 1\n",
    "except ValueError as e:\n",
    "    print(\"Error:\", e)\n"
   ]
  },
  {
   "cell_type": "markdown",
   "id": "55df6280",
   "metadata": {},
   "source": [
    "#### 44. Consider a random 10x2 matrix representing cartesian coordinates, convert them to polar coordinates (★★☆)"
   ]
  },
  {
   "cell_type": "code",
   "execution_count": 33,
   "id": "f1c86ea0",
   "metadata": {},
   "outputs": [],
   "source": [
    "import numpy as np\n",
    "\n",
    "# Create a random 10x2 matrix representing Cartesian coordinates\n",
    "cartesian_coords = np.random.rand(10, 2) * 10  # Example values between 0 and 10\n",
    "\n",
    "# Extract x and y coordinates"
   ]
  },
  {
   "cell_type": "markdown",
   "id": "2f60f1ec",
   "metadata": {},
   "source": [
    "#### 45. Create random vector of size 10 and replace the maximum value by 0 (★★☆)"
   ]
  },
  {
   "cell_type": "code",
   "execution_count": 34,
   "id": "d9f48f1c",
   "metadata": {},
   "outputs": [
    {
     "name": "stdout",
     "output_type": "stream",
     "text": [
      "Original vector: [0.259958   0.66926327 0.82978222 0.29339225 0.05366279 0.79186144\n",
      " 0.72909437 0.42204266 0.77698715 0.59129526]\n",
      "Modified vector: [0.259958   0.66926327 0.         0.29339225 0.05366279 0.79186144\n",
      " 0.72909437 0.42204266 0.77698715 0.59129526]\n"
     ]
    }
   ],
   "source": [
    "import numpy as np\n",
    "\n",
    "# Create a random vector of size 10\n",
    "random_vector = np.random.rand(10)\n",
    "\n",
    "print(\"Original vector:\", random_vector)\n",
    "\n",
    "# Find the index of the maximum value\n",
    "max_index = np.argmax(random_vector)\n",
    "\n",
    "# Replace the maximum value with 0\n",
    "random_vector[max_index] = 0\n",
    "\n",
    "print(\"Modified vector:\", random_vector)\n"
   ]
  },
  {
   "cell_type": "markdown",
   "id": "084e8ad4",
   "metadata": {},
   "source": [
    "#### 46. Create a structured array with `x` and `y` coordinates covering the [0,1]x[0,1] area (★★☆)"
   ]
  },
  {
   "cell_type": "code",
   "execution_count": 35,
   "id": "58b47c13",
   "metadata": {},
   "outputs": [
    {
     "name": "stdout",
     "output_type": "stream",
     "text": [
      "[[(0.  , 0.  ) (0.  , 0.25) (0.  , 0.5 ) (0.  , 0.75) (0.  , 1.  )]\n",
      " [(0.25, 0.  ) (0.25, 0.25) (0.25, 0.5 ) (0.25, 0.75) (0.25, 1.  )]\n",
      " [(0.5 , 0.  ) (0.5 , 0.25) (0.5 , 0.5 ) (0.5 , 0.75) (0.5 , 1.  )]\n",
      " [(0.75, 0.  ) (0.75, 0.25) (0.75, 0.5 ) (0.75, 0.75) (0.75, 1.  )]\n",
      " [(1.  , 0.  ) (1.  , 0.25) (1.  , 0.5 ) (1.  , 0.75) (1.  , 1.  )]]\n"
     ]
    }
   ],
   "source": [
    "import numpy as np\n",
    "\n",
    "# Define the number of points in each direction\n",
    "num_points = 5\n",
    "\n",
    "# Create a structured array\n",
    "dtype = [('x', float), ('y', float)]\n",
    "structured_array = np.zeros((num_points, num_points), dtype=dtype)\n",
    "\n",
    "# Populate the structured array with coordinates\n",
    "for i in range(num_points):\n",
    "    for j in range(num_points):\n",
    "        structured_array[i, j] = (i / (num_points - 1), j / (num_points - 1))\n",
    "\n",
    "print(structured_array)\n"
   ]
  },
  {
   "cell_type": "markdown",
   "id": "d7b9bc42",
   "metadata": {},
   "source": [
    "#### 47. Given two arrays, X and Y, construct the Cauchy matrix C (Cij =1/(xi - yj)) (★★☆)"
   ]
  },
  {
   "cell_type": "code",
   "execution_count": 36,
   "id": "a24824fb",
   "metadata": {},
   "outputs": [
    {
     "name": "stdout",
     "output_type": "stream",
     "text": [
      "Array X: [1 2 3]\n",
      "Array Y: [4 5 6]\n",
      "Cauchy matrix C:\n",
      "[[-0.33333333 -0.25       -0.2       ]\n",
      " [-0.5        -0.33333333 -0.25      ]\n",
      " [-1.         -0.5        -0.33333333]]\n"
     ]
    }
   ],
   "source": [
    "import numpy as np\n",
    "\n",
    "# Example arrays X and Y\n",
    "X = np.array([1, 2, 3])\n",
    "Y = np.array([4, 5, 6])\n",
    "\n",
    "# Construct the Cauchy matrix C\n",
    "C = 1.0 / (X[:, np.newaxis] - Y)\n",
    "\n",
    "print(\"Array X:\", X)\n",
    "print(\"Array Y:\", Y)\n",
    "print(\"Cauchy matrix C:\")\n",
    "print(C)\n"
   ]
  },
  {
   "cell_type": "markdown",
   "id": "65ebc11b",
   "metadata": {},
   "source": [
    "#### 48. Print the minimum and maximum representable value for each numpy scalar type (★★☆)"
   ]
  },
  {
   "cell_type": "code",
   "execution_count": 37,
   "id": "e45d38fb",
   "metadata": {},
   "outputs": [
    {
     "name": "stdout",
     "output_type": "stream",
     "text": [
      "Minimum and Maximum representable values for each numpy scalar type:\n",
      "int8: Min = -128, Max = 127\n",
      "int16: Min = -32768, Max = 32767\n",
      "int32: Min = -2147483648, Max = 2147483647\n",
      "int64: Min = -9223372036854775808, Max = 9223372036854775807\n",
      "uint8: Min = 0, Max = 255\n",
      "uint16: Min = 0, Max = 65535\n",
      "uint32: Min = 0, Max = 4294967295\n",
      "uint64: Min = 0, Max = 18446744073709551615\n",
      "float32: Min = -3.4028234663852886e+38, Max = 3.4028234663852886e+38\n",
      "float64: Min = -1.7976931348623157e+308, Max = 1.7976931348623157e+308\n"
     ]
    }
   ],
   "source": [
    "import numpy as np\n",
    "\n",
    "# List of numpy scalar types\n",
    "scalar_types = [np.int8, np.int16, np.int32, np.int64,\n",
    "                np.uint8, np.uint16, np.uint32, np.uint64,\n",
    "                np.float32, np.float64]\n",
    "\n",
    "print(\"Minimum and Maximum representable values for each numpy scalar type:\")\n",
    "\n",
    "for dtype in scalar_types:\n",
    "    info = np.iinfo(dtype) if np.issubdtype(dtype, np.integer) else np.finfo(dtype)\n",
    "    print(f\"{dtype.__name__}: Min = {info.min}, Max = {info.max}\")\n"
   ]
  },
  {
   "cell_type": "markdown",
   "id": "9b317a98",
   "metadata": {},
   "source": [
    "#### 49. How to print all the values of an array? (★★☆)"
   ]
  },
  {
   "cell_type": "code",
   "execution_count": 38,
   "id": "309cdeb9",
   "metadata": {},
   "outputs": [
    {
     "name": "stdout",
     "output_type": "stream",
     "text": [
      "[[0.62077836 0.7678414  0.79184899 0.44956665 0.66378394]\n",
      " [0.07357149 0.1807748  0.4744432  0.0755688  0.21048495]\n",
      " [0.59625387 0.01261723 0.96814784 0.13904646 0.09341578]\n",
      " [0.6675772  0.38561161 0.70762562 0.59257403 0.46407691]\n",
      " [0.33941555 0.68284735 0.01289826 0.62293712 0.00267107]]\n"
     ]
    }
   ],
   "source": [
    "import numpy as np\n",
    "\n",
    "# Create an example array\n",
    "array = np.random.rand(5, 5)\n",
    "\n",
    "# Print all the values\n",
    "print(array)\n"
   ]
  },
  {
   "cell_type": "markdown",
   "id": "b580f9d0",
   "metadata": {},
   "source": [
    "#### 50. How to find the closest value (to a given scalar) in a vector? (★★☆)"
   ]
  },
  {
   "cell_type": "code",
   "execution_count": 39,
   "id": "ebfb6714",
   "metadata": {},
   "outputs": [
    {
     "name": "stdout",
     "output_type": "stream",
     "text": [
      "Vector: [0.1 0.5 0.9 1.5 2.  2.5]\n",
      "Given scalar: 1.2\n",
      "Closest value: 0.9\n"
     ]
    }
   ],
   "source": [
    "import numpy as np\n",
    "\n",
    "# Example vector\n",
    "vector = np.array([0.1, 0.5, 0.9, 1.5, 2.0, 2.5])\n",
    "\n",
    "# Given scalar\n",
    "scalar = 1.2\n",
    "\n",
    "# Find the closest value\n",
    "closest_value = vector[np.abs(vector - scalar).argmin()]\n",
    "\n",
    "print(\"Vector:\", vector)\n",
    "print(\"Given scalar:\", scalar)\n",
    "print(\"Closest value:\", closest_value)\n"
   ]
  },
  {
   "cell_type": "markdown",
   "id": "78bcd92f",
   "metadata": {},
   "source": [
    "#### 52. Consider a random vector with shape (100,2) representing coordinates, find point by point distances (★★☆)"
   ]
  },
  {
   "cell_type": "code",
   "execution_count": 44,
   "id": "fea7f9a6",
   "metadata": {},
   "outputs": [
    {
     "name": "stdout",
     "output_type": "stream",
     "text": [
      "Coordinates:\n",
      "[[0.22953373 0.52143965]\n",
      " [0.60195253 0.63905729]\n",
      " [0.29512608 0.03870511]\n",
      " [0.48004276 0.67617017]\n",
      " [0.08620819 0.15535839]\n",
      " [0.88721905 0.04476779]\n",
      " [0.33579835 0.13589234]\n",
      " [0.35458003 0.86585986]\n",
      " [0.27628554 0.28203827]\n",
      " [0.97388939 0.11598148]\n",
      " [0.90492789 0.88115509]\n",
      " [0.50298034 0.72618055]\n",
      " [0.34427598 0.26166122]\n",
      " [0.37565816 0.01607134]\n",
      " [0.68793336 0.91847192]\n",
      " [0.48933599 0.06576982]\n",
      " [0.26479668 0.64990179]\n",
      " [0.68381316 0.7875415 ]\n",
      " [0.7262514  0.70543868]\n",
      " [0.92764024 0.06294951]\n",
      " [0.69960727 0.15146937]\n",
      " [0.77694038 0.82824369]\n",
      " [0.80632049 0.5708712 ]\n",
      " [0.3051574  0.61798059]\n",
      " [0.83240565 0.72041153]\n",
      " [0.15152841 0.95847677]\n",
      " [0.32795429 0.81072893]\n",
      " [0.05712904 0.33909692]\n",
      " [0.81186592 0.28165216]\n",
      " [0.93852283 0.13959411]\n",
      " [0.6470944  0.70174527]\n",
      " [0.59720182 0.84042037]\n",
      " [0.54424322 0.04340813]\n",
      " [0.73065287 0.02776408]\n",
      " [0.11320865 0.26236125]\n",
      " [0.39131263 0.36022715]\n",
      " [0.86519505 0.90183869]\n",
      " [0.66958737 0.75134506]\n",
      " [0.71089752 0.06661344]\n",
      " [0.7594612  0.49556872]\n",
      " [0.24552396 0.30504054]\n",
      " [0.72459885 0.97444911]\n",
      " [0.35434621 0.31928311]\n",
      " [0.55375067 0.19600702]\n",
      " [0.42422496 0.82903433]\n",
      " [0.07591979 0.73073238]\n",
      " [0.67548587 0.36120742]\n",
      " [0.34165882 0.28641169]\n",
      " [0.45641151 0.66649203]\n",
      " [0.296349   0.87733881]\n",
      " [0.55663166 0.97444593]\n",
      " [0.88093762 0.91179141]\n",
      " [0.8312507  0.28033676]\n",
      " [0.17584781 0.06009501]\n",
      " [0.88112391 0.06482981]\n",
      " [0.49174265 0.81890011]\n",
      " [0.57678676 0.57445662]\n",
      " [0.5899127  0.90642918]\n",
      " [0.66147472 0.16124662]\n",
      " [0.3806405  0.96048038]\n",
      " [0.15695611 0.25147067]\n",
      " [0.15694348 0.2570914 ]\n",
      " [0.67185767 0.7223851 ]\n",
      " [0.8277004  0.78643221]\n",
      " [0.70470899 0.29526001]\n",
      " [0.60432755 0.7373631 ]\n",
      " [0.82316745 0.59726138]\n",
      " [0.3428547  0.6708895 ]\n",
      " [0.0759795  0.93061896]\n",
      " [0.67584223 0.2442982 ]\n",
      " [0.70501645 0.63474268]\n",
      " [0.83983081 0.24566234]\n",
      " [0.23250321 0.10061354]\n",
      " [0.70845616 0.20196194]\n",
      " [0.25305194 0.08597685]\n",
      " [0.42287698 0.91221061]\n",
      " [0.59347403 0.37043431]\n",
      " [0.86388218 0.5185044 ]\n",
      " [0.90236659 0.00743685]\n",
      " [0.16796498 0.6128475 ]\n",
      " [0.518863   0.26427027]\n",
      " [0.4037895  0.74143978]\n",
      " [0.79842503 0.41184633]\n",
      " [0.32641663 0.28941162]\n",
      " [0.55223499 0.80170234]\n",
      " [0.68319534 0.25824839]\n",
      " [0.33303348 0.98710095]\n",
      " [0.04505316 0.14767786]\n",
      " [0.18774477 0.37738013]\n",
      " [0.61768125 0.47155723]\n",
      " [0.87398268 0.88353257]\n",
      " [0.31320657 0.52413724]\n",
      " [0.21544439 0.92491388]\n",
      " [0.31482417 0.62216845]\n",
      " [0.44082481 0.65106073]\n",
      " [0.9416767  0.19956134]\n",
      " [0.0465516  0.93142559]\n",
      " [0.4703478  0.29806309]\n",
      " [0.2098695  0.06318633]\n",
      " [0.42627754 0.30214656]]\n",
      "Point-by-point distances:\n",
      "[[0.         0.39055048 0.48717039 ... 0.32846386 0.45867504 0.2946143 ]\n",
      " [0.39055048 0.         0.67421452 ... 0.36550903 0.6966753  0.37996124]\n",
      " [0.48717039 0.67421452 0.         ... 0.31300035 0.08870182 0.29428236]\n",
      " ...\n",
      " [0.32846386 0.36550903 0.31300035 ... 0.         0.35073642 0.04425904]\n",
      " [0.45867504 0.6966753  0.08870182 ... 0.35073642 0.         0.32238863]\n",
      " [0.2946143  0.37996124 0.29428236 ... 0.04425904 0.32238863 0.        ]]\n"
     ]
    }
   ],
   "source": [
    "import numpy as np\n",
    "\n",
    "# Create a random vector with shape (100, 2)\n",
    "coordinates = np.random.rand(100, 2)\n",
    "\n",
    "# Calculate point-by-point distances\n",
    "distances = np.sqrt(np.sum((coordinates[:, np.newaxis, :] - coordinates[np.newaxis, :, :]) ** 2, axis=-1))\n",
    "\n",
    "print(\"Coordinates:\")\n",
    "print(coordinates)\n",
    "print(\"Point-by-point distances:\")\n",
    "print(distances)\n"
   ]
  },
  {
   "cell_type": "markdown",
   "id": "343c5a85",
   "metadata": {},
   "source": [
    "#### 53. How to convert a float (32 bits) array into an integer (32 bits) in place?"
   ]
  },
  {
   "cell_type": "code",
   "execution_count": 45,
   "id": "fc1b687b",
   "metadata": {},
   "outputs": [
    {
     "name": "stdout",
     "output_type": "stream",
     "text": [
      "Original float array: [0.488031   0.64207035 0.710312   0.97111404 0.59573984 0.950472\n",
      " 0.9654122  0.82414323 0.14779681 0.4085373 ]\n",
      "Converted integer array: [0 0 0 0 0 0 0 0 0 0]\n"
     ]
    }
   ],
   "source": [
    "import numpy as np\n",
    "\n",
    "# Create a float (32-bit) array\n",
    "float_array = np.random.rand(10).astype(np.float32)\n",
    "\n",
    "print(\"Original float array:\", float_array)\n",
    "\n",
    "# Convert to integer (32-bit) in place\n",
    "float_array = float_array.astype(np.int32, copy=False)\n",
    "\n",
    "print(\"Converted integer array:\", float_array)\n"
   ]
  },
  {
   "cell_type": "markdown",
   "id": "c23bd80d",
   "metadata": {},
   "source": [
    "#### 55. What is the equivalent of enumerate for numpy arrays? (★★☆)"
   ]
  },
  {
   "cell_type": "code",
   "execution_count": 47,
   "id": "d95d9578",
   "metadata": {},
   "outputs": [
    {
     "name": "stdout",
     "output_type": "stream",
     "text": [
      "Index: (0, 0), Value: 1\n",
      "Index: (0, 1), Value: 2\n",
      "Index: (1, 0), Value: 3\n",
      "Index: (1, 1), Value: 4\n",
      "Index: (2, 0), Value: 5\n",
      "Index: (2, 1), Value: 6\n"
     ]
    }
   ],
   "source": [
    "import numpy as np\n",
    "\n",
    "# Create a numpy array\n",
    "array = np.array([[1, 2], [3, 4], [5, 6]])\n",
    "\n",
    "# Use np.ndenumerate to iterate with index and value\n",
    "for index, value in np.ndenumerate(array):\n",
    "    print(f\"Index: {index}, Value: {value}\")\n"
   ]
  },
  {
   "cell_type": "markdown",
   "id": "2153a5ec",
   "metadata": {},
   "source": [
    "#### 56. Generate a generic 2D Gaussian-like array (★★☆)"
   ]
  },
  {
   "cell_type": "code",
   "execution_count": 48,
   "id": "61122d1e",
   "metadata": {},
   "outputs": [
    {
     "name": "stdout",
     "output_type": "stream",
     "text": [
      "[[0.01831564 0.0403616  0.07300087 0.10836802 0.13203459 0.13203459\n",
      "  0.10836802 0.07300087 0.0403616  0.01831564]\n",
      " [0.0403616  0.08894358 0.16086971 0.2388072  0.29096046 0.29096046\n",
      "  0.2388072  0.16086971 0.08894358 0.0403616 ]\n",
      " [0.07300087 0.16086971 0.29096046 0.43192377 0.52625189 0.52625189\n",
      "  0.43192377 0.29096046 0.16086971 0.07300087]\n",
      " [0.10836802 0.2388072  0.43192377 0.64118039 0.7812082  0.7812082\n",
      "  0.64118039 0.43192377 0.2388072  0.10836802]\n",
      " [0.13203459 0.29096046 0.52625189 0.7812082  0.95181678 0.95181678\n",
      "  0.7812082  0.52625189 0.29096046 0.13203459]\n",
      " [0.13203459 0.29096046 0.52625189 0.7812082  0.95181678 0.95181678\n",
      "  0.7812082  0.52625189 0.29096046 0.13203459]\n",
      " [0.10836802 0.2388072  0.43192377 0.64118039 0.7812082  0.7812082\n",
      "  0.64118039 0.43192377 0.2388072  0.10836802]\n",
      " [0.07300087 0.16086971 0.29096046 0.43192377 0.52625189 0.52625189\n",
      "  0.43192377 0.29096046 0.16086971 0.07300087]\n",
      " [0.0403616  0.08894358 0.16086971 0.2388072  0.29096046 0.29096046\n",
      "  0.2388072  0.16086971 0.08894358 0.0403616 ]\n",
      " [0.01831564 0.0403616  0.07300087 0.10836802 0.13203459 0.13203459\n",
      "  0.10836802 0.07300087 0.0403616  0.01831564]]\n"
     ]
    }
   ],
   "source": [
    "import numpy as np\n",
    "\n",
    "# Define the size of the array\n",
    "size = 10\n",
    "\n",
    "# Create coordinate grids for the x and y axes\n",
    "x, y = np.meshgrid(np.linspace(-1, 1, size), np.linspace(-1, 1, size))\n",
    "\n",
    "# Calculate the Gaussian-like function\n",
    "sigma = 0.5\n",
    "gaussian_array = np.exp(-((x**2 + y**2) / (2 * sigma**2)))\n",
    "\n",
    "print(gaussian_array)\n"
   ]
  },
  {
   "cell_type": "markdown",
   "id": "2e76d589",
   "metadata": {},
   "source": [
    "#### 57. How to randomly place p elements in a 2D array? (★★☆)"
   ]
  },
  {
   "cell_type": "code",
   "execution_count": 49,
   "id": "0c2e4fcc",
   "metadata": {},
   "outputs": [],
   "source": [
    "import numpy as np\n",
    "\n",
    "# Define the size of the array\n",
    "rows, cols = 5, 5\n",
    "p = 10\n",
    "\n",
    "# Create a zero 2D array\n",
    "array = np.zeros((rows, cols))\n",
    "\n",
    "# Randomly choose p unique indices to place the elements\n",
    "indices = np.random.choice(rows * cols, p, replace=False)\n",
    "\n"
   ]
  },
  {
   "cell_type": "markdown",
   "id": "8b3933eb",
   "metadata": {},
   "source": [
    "#### 58. Subtract the mean of each row of a matrix (★★☆)"
   ]
  },
  {
   "cell_type": "code",
   "execution_count": 50,
   "id": "a306c9ef",
   "metadata": {},
   "outputs": [
    {
     "name": "stdout",
     "output_type": "stream",
     "text": [
      "Original matrix:\n",
      "[[0.94962556 0.2149806  0.12503463 0.16637319 0.98150977]\n",
      " [0.17352858 0.29123675 0.18879839 0.37174976 0.20066296]\n",
      " [0.59725088 0.38692422 0.03878502 0.86454332 0.81838507]\n",
      " [0.73331753 0.96654876 0.46026515 0.88209871 0.47289789]]\n",
      "Row means:\n",
      "[[0.48750475]\n",
      " [0.24519528]\n",
      " [0.5411777 ]\n",
      " [0.70302561]]\n",
      "Matrix after subtracting row means:\n",
      "[[ 0.46212081 -0.27252415 -0.36247012 -0.32113156  0.49400502]\n",
      " [-0.07166671  0.04604146 -0.0563969   0.12655448 -0.04453233]\n",
      " [ 0.05607318 -0.15425348 -0.50239268  0.32336562  0.27720737]\n",
      " [ 0.03029192  0.26352315 -0.24276046  0.1790731  -0.23012772]]\n"
     ]
    }
   ],
   "source": [
    "import numpy as np\n",
    "\n",
    "# Create an example matrix\n",
    "matrix = np.random.rand(4, 5)\n",
    "\n",
    "# Calculate the mean of each row\n",
    "row_means = matrix.mean(axis=1, keepdims=True)\n",
    "\n",
    "# Subtract the mean of each row from the corresponding row elements\n",
    "centered_matrix = matrix - row_means\n",
    "\n",
    "print(\"Original matrix:\")\n",
    "print(matrix)\n",
    "print(\"Row means:\")\n",
    "print(row_means)\n",
    "print(\"Matrix after subtracting row means:\")\n",
    "print(centered_matrix)\n"
   ]
  },
  {
   "cell_type": "markdown",
   "id": "ea8807c0",
   "metadata": {},
   "source": [
    "#### 59. How to sort an array by the nth column? (★★☆)"
   ]
  },
  {
   "cell_type": "code",
   "execution_count": 51,
   "id": "cc89a699",
   "metadata": {},
   "outputs": [
    {
     "name": "stdout",
     "output_type": "stream",
     "text": [
      "Original array:\n",
      "[[3 2 1]\n",
      " [1 3 2]\n",
      " [2 1 3]]\n",
      "Sorted array by column 1 :\n",
      "[[2 1 3]\n",
      " [3 2 1]\n",
      " [1 3 2]]\n"
     ]
    }
   ],
   "source": [
    "import numpy as np\n",
    "\n",
    "# Create an example array\n",
    "array = np.array([[3, 2, 1],\n",
    "                  [1, 3, 2],\n",
    "                  [2, 1, 3]])\n",
    "\n",
    "# Define the column index to sort by\n",
    "n = 1\n",
    "\n",
    "# Sort the array by the nth column\n",
    "sorted_array = array[array[:, n].argsort()]\n",
    "\n",
    "print(\"Original array:\")\n",
    "print(array)\n",
    "print(\"Sorted array by column\", n, \":\")\n",
    "print(sorted_array)\n"
   ]
  },
  {
   "cell_type": "markdown",
   "id": "00fa00a1",
   "metadata": {},
   "source": [
    "#### 60. How to tell if a given 2D array has null columns? (★★☆)"
   ]
  },
  {
   "cell_type": "code",
   "execution_count": 52,
   "id": "3436e165",
   "metadata": {},
   "outputs": [
    {
     "name": "stdout",
     "output_type": "stream",
     "text": [
      "Array:\n",
      "[[ 1. nan  3.]\n",
      " [ 4. nan  6.]\n",
      " [ 7. nan  9.]]\n",
      "Null columns: [False  True False]\n"
     ]
    }
   ],
   "source": [
    "import numpy as np\n",
    "\n",
    "# Example 2D array with some NaN values\n",
    "array = np.array([[1, np.nan, 3],\n",
    "                  [4, np.nan, 6],\n",
    "                  [7, np.nan, 9]])\n",
    "\n",
    "# Check for null columns\n",
    "null_columns = np.isnan(array).all(axis=0)\n",
    "\n",
    "print(\"Array:\")\n",
    "print(array)\n",
    "print(\"Null columns:\", null_columns)\n"
   ]
  },
  {
   "cell_type": "markdown",
   "id": "5a65c7a2",
   "metadata": {},
   "source": [
    "#### 61. Find the nearest value from a given value in an array (★★☆)"
   ]
  },
  {
   "cell_type": "code",
   "execution_count": 53,
   "id": "73f149d6",
   "metadata": {},
   "outputs": [
    {
     "name": "stdout",
     "output_type": "stream",
     "text": [
      "Array: [0.1 0.5 0.9 1.5 2.  2.5]\n",
      "Given value: 1.2\n",
      "Nearest value: 0.9\n"
     ]
    }
   ],
   "source": [
    "import numpy as np\n",
    "\n",
    "# Example array\n",
    "array = np.array([0.1, 0.5, 0.9, 1.5, 2.0, 2.5])\n",
    "\n",
    "# Given value\n",
    "value = 1.2\n",
    "\n",
    "# Find the nearest value\n",
    "nearest_value = array[np.abs(array - value).argmin()]\n",
    "\n",
    "print(\"Array:\", array)\n",
    "print(\"Given value:\", value)\n",
    "print(\"Nearest value:\", nearest_value)\n"
   ]
  },
  {
   "cell_type": "markdown",
   "id": "dd83e8af",
   "metadata": {},
   "source": [
    "#### 62. Considering two arrays with shape (1,3) and (3,1), how to compute their sum using an iterator? (★★☆)"
   ]
  },
  {
   "cell_type": "code",
   "execution_count": 54,
   "id": "29a709a1",
   "metadata": {},
   "outputs": [
    {
     "name": "stdout",
     "output_type": "stream",
     "text": [
      "Array 1:\n",
      "[[1 2 3]]\n",
      "Array 2:\n",
      "[[4]\n",
      " [5]\n",
      " [6]]\n",
      "Resulting sum array:\n",
      "[[5. 6. 7.]\n",
      " [6. 7. 8.]\n",
      " [7. 8. 9.]]\n"
     ]
    }
   ],
   "source": [
    "\n",
    "\n",
    "\n",
    "import numpy as np\n",
    "\n",
    "# Define two arrays with shapes (1, 3) and (3, 1)\n",
    "array1 = np.array([[1, 2, 3]])\n",
    "array2 = np.array([[4], [5], [6]])\n",
    "\n",
    "# Create a result array with the broadcasted shape\n",
    "result = np.empty((3, 3))\n",
    "\n",
    "# Use nditer to iterate and compute the sum\n",
    "with np.nditer([array1, array2, result], flags=['multi_index'], op_flags=[['readonly'], ['readonly'], ['writeonly']]) as it:\n",
    "    for x, y, res in it:\n",
    "        res[...] = x + y\n",
    "\n",
    "print(\"Array 1:\")\n",
    "print(array1)\n",
    "print(\"Array 2:\")\n",
    "print(array2)\n",
    "print(\"Resulting sum array:\")\n",
    "print(result)\n"
   ]
  },
  {
   "cell_type": "markdown",
   "id": "6c042efa",
   "metadata": {},
   "source": [
    "#### 63. Create an array class that has a name attribute (★★☆)"
   ]
  },
  {
   "cell_type": "code",
   "execution_count": 55,
   "id": "45b3d2e0",
   "metadata": {},
   "outputs": [
    {
     "name": "stdout",
     "output_type": "stream",
     "text": [
      "NamedArray(name=MyArray, array=[1 2 3 4 5])\n",
      "Name of the array: MyArray\n"
     ]
    }
   ],
   "source": [
    "import numpy as np\n",
    "\n",
    "class NamedArray:\n",
    "    def __init__(self, array, name):\n",
    "        self.array = np.array(array)\n",
    "        self.name = name\n",
    "\n",
    "    def __repr__(self):\n",
    "        return f\"NamedArray(name={self.name}, array={self.array})\"\n",
    "\n",
    "    def __getitem__(self, index):\n",
    "        return self.array[index]\n",
    "\n",
    "    def __setitem__(self, index, value):\n",
    "        self.array[index] = value\n",
    "\n",
    "    # You can add more methods as needed to handle array operations\n",
    "\n",
    "# Example usage\n",
    "array = NamedArray([1, 2, 3, 4, 5], \"MyArray\")\n",
    "\n",
    "print(array)  # Output: NamedArray(name=MyArray, array=[1 2 3 4 5])\n",
    "print(\"Name of the array:\", array.name)  # Output: MyArray"
   ]
  },
  {
   "cell_type": "markdown",
   "id": "0a075c3d",
   "metadata": {},
   "source": [
    "#### 64. Consider a given vector, how to add 1 to each element indexed by a second vector (be careful with repeated indices)? (★★★)"
   ]
  },
  {
   "cell_type": "code",
   "execution_count": 56,
   "id": "36c50470",
   "metadata": {},
   "outputs": [
    {
     "name": "stdout",
     "output_type": "stream",
     "text": [
      "Modified vector: [1 3 3 5 5]\n"
     ]
    }
   ],
   "source": [
    "import numpy as np\n",
    "\n",
    "# Example given vector\n",
    "vector = np.array([0, 1, 2, 3, 4])\n",
    "\n",
    "# Example indices vector\n",
    "indices = np.array([0, 1, 2, 1, 3, 3, 4])\n",
    "\n",
    "# Add 1 to each element indexed by the second vector\n",
    "np.add.at(vector, indices, 1)\n",
    "\n",
    "print(\"Modified vector:\", vector)\n"
   ]
  },
  {
   "cell_type": "markdown",
   "id": "0fb2f0c5",
   "metadata": {},
   "source": [
    "#### 65. How to accumulate elements of a vector (X) to an array (F) based on an index list (I)? (★★★)"
   ]
  },
  {
   "cell_type": "code",
   "execution_count": 57,
   "id": "58aa5f82",
   "metadata": {},
   "outputs": [],
   "source": [
    "import numpy as np\n",
    "\n",
    "# Example vector X\n",
    "X = np.array([1, 2, 3, 4, 5])\n",
    "\n",
    "# Example index list I\n",
    "I = np.array([0, 1, 2, 1, 3])\n",
    "\n",
    "# Initialize the array F with zeros, with the same shape as needed\n",
    "F = np"
   ]
  },
  {
   "cell_type": "markdown",
   "id": "d89dc506",
   "metadata": {},
   "source": [
    "#### 66. Considering a (w,h,3) image of (dtype=ubyte), compute the number of unique colors (★★☆)"
   ]
  },
  {
   "cell_type": "code",
   "execution_count": 58,
   "id": "8fb43a49",
   "metadata": {},
   "outputs": [
    {
     "name": "stdout",
     "output_type": "stream",
     "text": [
      "Image:\n",
      "[[[  5 251 231]\n",
      "  [ 48 160 104]\n",
      "  [116  63  69]\n",
      "  [ 14 125 214]]\n",
      "\n",
      " [[156  87 245]\n",
      "  [150  50  42]\n",
      "  [175  45  53]\n",
      "  [208 146  74]]\n",
      "\n",
      " [[155  10  97]\n",
      "  [  9  87 211]\n",
      "  [128  20   2]\n",
      "  [  2 230 140]]\n",
      "\n",
      " [[125  68 210]\n",
      "  [124  43 219]\n",
      "  [ 13 144 120]\n",
      "  [ 69  79 163]]]\n",
      "Number of unique colors: 16\n"
     ]
    }
   ],
   "source": [
    "import numpy as np\n",
    "\n",
    "# Create an example image with shape (w, h, 3) and dtype=ubyte\n",
    "w, h = 4, 4  # example dimensions\n",
    "image = np.random.randint(0, 256, size=(w, h, 3), dtype=np.uint8)\n",
    "\n",
    "# Reshape the image to a 2D array where each row is a color (R, G, B)\n",
    "reshaped_image = image.reshape(-1, 3)\n",
    "\n",
    "# Use np.unique to find unique colors\n",
    "unique_colors = np.unique(reshaped_image, axis=0)\n",
    "\n",
    "# Count the number of unique colors\n",
    "num_unique_colors = unique_colors.shape[0]\n",
    "\n",
    "print(\"Image:\")\n",
    "print(image)\n",
    "print(\"Number of unique colors:\", num_unique_colors)\n"
   ]
  },
  {
   "cell_type": "markdown",
   "id": "535a5d81",
   "metadata": {},
   "source": [
    "#### 67.Considering a four dimensions array, how to get sum over the last two axis at once? (★★★)"
   ]
  },
  {
   "cell_type": "code",
   "execution_count": 59,
   "id": "f954ab9d",
   "metadata": {},
   "outputs": [
    {
     "name": "stdout",
     "output_type": "stream",
     "text": [
      "Original array shape: (3, 4, 5, 6)\n",
      "Sum over the last two axes shape: (3, 4)\n",
      "Sum over the last two axes:\n",
      "[[14.36717804 15.63632319 13.1489061  12.75375478]\n",
      " [13.71572706 12.86510073 17.41551538 15.31126029]\n",
      " [18.30557084 14.71088596 12.92395533 13.34334296]]\n"
     ]
    }
   ],
   "source": [
    "import numpy as np\n",
    "\n",
    "# Create a 4D array\n",
    "array = np.random.rand(3, 4, 5, 6)\n",
    "\n",
    "# Sum over the last two axes (axis=-2 and axis=-1)\n",
    "sum_over_last_two_axes = np.sum(array, axis=(-2, -1))\n",
    "\n",
    "print(\"Original array shape:\", array.shape)\n",
    "print(\"Sum over the last two axes shape:\", sum_over_last_two_axes.shape)\n",
    "print(\"Sum over the last two axes:\")\n",
    "print(sum_over_last_two_axes)\n"
   ]
  },
  {
   "cell_type": "markdown",
   "id": "eee66d3c",
   "metadata": {},
   "source": [
    "#### 68. Considering a one-dimensional vector D, how to compute means of subsets of D using a vector S of same size describing subset  indices? (★★★)"
   ]
  },
  {
   "cell_type": "code",
   "execution_count": 60,
   "id": "8929773a",
   "metadata": {},
   "outputs": [
    {
     "name": "stdout",
     "output_type": "stream",
     "text": [
      "Vector D: [ 1  2  3  4  5  6  7  8  9 10]\n",
      "Subset indices S: [0 1 0 1 0 1 0 1 0 1]\n",
      "Means of subsets: [5. 6.]\n"
     ]
    }
   ],
   "source": [
    "import numpy as np\n",
    "\n",
    "# Example vector D\n",
    "D = np.array([1, 2, 3, 4, 5, 6, 7, 8, 9, 10])\n",
    "\n",
    "# Example vector S describing subset indices\n",
    "S = np.array([0, 1, 0, 1, 0, 1, 0, 1, 0, 1])\n",
    "\n",
    "# Compute the sum and count for each subset\n",
    "sum_per_subset = np.bincount(S, weights=D)\n",
    "count_per_subset = np.bincount(S)\n",
    "\n",
    "# Compute the means of subsets\n",
    "mean_per_subset = sum_per_subset / count_per_subset\n",
    "\n",
    "print(\"Vector D:\", D)\n",
    "print(\"Subset indices S:\", S)\n",
    "print(\"Means of subsets:\", mean_per_subset)\n"
   ]
  },
  {
   "cell_type": "markdown",
   "id": "ac1b3081",
   "metadata": {},
   "source": [
    "(★★★)"
   ]
  },
  {
   "cell_type": "code",
   "execution_count": null,
   "id": "b47d392d",
   "metadata": {},
   "outputs": [],
   "source": []
  },
  {
   "cell_type": "markdown",
   "id": "a8a97e7d",
   "metadata": {},
   "source": [
    "#### 70. Consider the vector [1, 2, 3, 4, 5], how to build a new vector with 3 consecutive zeros interleaved between each value? (★★★)"
   ]
  },
  {
   "cell_type": "code",
   "execution_count": 61,
   "id": "ee6c6c37",
   "metadata": {},
   "outputs": [
    {
     "name": "stdout",
     "output_type": "stream",
     "text": [
      "Original vector: [1 2 3 4 5]\n",
      "New vector with zeros interleaved: [1 0 0 0 2 0 0 0 3 0 0 0 4 0 0 0 5]\n"
     ]
    }
   ],
   "source": [
    "import numpy as np\n",
    "\n",
    "# Original vector\n",
    "original_vector = np.array([1, 2, 3, 4, 5])\n",
    "\n",
    "# Create a new vector with space for 3 zeros between each element\n",
    "new_vector = np.zeros(len(original_vector) * 4 - 3, dtype=original_vector.dtype)\n",
    "\n",
    "# Assign the original values to the appropriate positions\n",
    "new_vector[::4] = original_vector\n",
    "\n",
    "print(\"Original vector:\", original_vector)\n",
    "print(\"New vector with zeros interleaved:\", new_vector)\n"
   ]
  },
  {
   "cell_type": "markdown",
   "id": "d6a30d60",
   "metadata": {},
   "source": [
    "#### 71. Consider an array of dimension (5,5,3), how to mulitply it by an array with dimensions (5,5)? (★★★)"
   ]
  },
  {
   "cell_type": "code",
   "execution_count": 62,
   "id": "e9703f2e",
   "metadata": {},
   "outputs": [
    {
     "name": "stdout",
     "output_type": "stream",
     "text": [
      "3D Array:\n",
      "[[[0.84135211 0.8686938  0.33664891]\n",
      "  [0.0743713  0.34911287 0.48307802]\n",
      "  [0.41871534 0.42874033 0.99191286]\n",
      "  [0.63677643 0.2314116  0.07507054]\n",
      "  [0.17127531 0.49543127 0.51492528]]\n",
      "\n",
      " [[0.46025808 0.15427734 0.90966511]\n",
      "  [0.65376187 0.98223668 0.64437941]\n",
      "  [0.51040978 0.92838177 0.63160122]\n",
      "  [0.44842631 0.96894661 0.05515638]\n",
      "  [0.28783778 0.11952071 0.47412687]]\n",
      "\n",
      " [[0.14557933 0.97003607 0.68540391]\n",
      "  [0.83171271 0.34406295 0.43282186]\n",
      "  [0.32777517 0.49286424 0.90180415]\n",
      "  [0.49938762 0.80538948 0.81152771]\n",
      "  [0.64921782 0.44694264 0.96989229]]\n",
      "\n",
      " [[0.62070629 0.63464883 0.48181106]\n",
      "  [0.2794426  0.80316833 0.10265526]\n",
      "  [0.90501464 0.25584358 0.07763668]\n",
      "  [0.15524885 0.03268069 0.559941  ]\n",
      "  [0.61711289 0.52312382 0.74752902]]\n",
      "\n",
      " [[0.7115335  0.81098866 0.87302355]\n",
      "  [0.52133178 0.15759839 0.18690314]\n",
      "  [0.21510152 0.89092357 0.54067054]\n",
      "  [0.93499212 0.37664137 0.25043366]\n",
      "  [0.00598107 0.299187   0.399975  ]]]\n",
      "2D Array:\n"
     ]
    }
   ],
   "source": [
    "import numpy as np\n",
    "\n",
    "# Create an example 3D array of shape (5, 5, 3)\n",
    "array_3d = np.random.rand(5, 5, 3)\n",
    "\n",
    "# Create an example 2D array of shape (5, 5)\n",
    "array_2d = np.random.rand(5, 5)\n",
    "\n",
    "# Multiply the 3D array by the 2D array using broadcasting\n",
    "result = array_3d * array_2d[:, :, np.newaxis]\n",
    "\n",
    "print(\"3D Array:\")\n",
    "print(array_3d)\n",
    "print(\"2D Array:\")\n"
   ]
  },
  {
   "cell_type": "code",
   "execution_count": null,
   "id": "f1b432b1",
   "metadata": {},
   "outputs": [],
   "source": []
  },
  {
   "cell_type": "markdown",
   "id": "620c9f83",
   "metadata": {},
   "source": [
    "#### 73. Consider a set of 10 triplets describing 10 triangles (with shared vertices), find the set of unique line segments composing all the  triangles (★★★)"
   ]
  },
  {
   "cell_type": "code",
   "execution_count": 116,
   "id": "4e595ffc",
   "metadata": {},
   "outputs": [],
   "source": [
    "import numpy as np\n",
    "\n",
    "# Example triplets describing triangles (with shared vertices)\n",
    "triangles = np.array([\n",
    "    [0, 1, 2],\n",
    "    [1, 2, 3],\n",
    "    [2, 3, 4],\n",
    "    [3, 4, 5],\n",
    "    [4, 5, 6],\n",
    "    [5, 6, 7],\n",
    "    [6, 7, 8],\n",
    "    [7, 8, 9],\n",
    "    [8, 9, 10],\n",
    "    [9, 10, 11]\n",
    "])\n",
    "\n",
    "# Example vertex coordinates\n",
    "vertices = np.array([\n",
    "    [0, 0],\n",
    "    [1, 0],\n",
    "    [1, 1],\n",
    "    [0, 1],\n",
    "    [2, 0],\n",
    "    [2, 1],\n",
    "    [3, 0],\n",
    "    [3, 1],\n",
    "    [4, 0],\n",
    "    [4, 1],\n",
    "    [5, 0],\n",
    "    [5, 1]\n",
    "])\n",
    "\n",
    "# Function to compute the area of a triangle given"
   ]
  },
  {
   "cell_type": "markdown",
   "id": "a76c55a2",
   "metadata": {},
   "source": [
    "#### 74. Given a sorted array C that corresponds to a bincount, how to produce an array A such that np.bincount(A) == C? (★★★)"
   ]
  },
  {
   "cell_type": "code",
   "execution_count": 64,
   "id": "2d2ae65a",
   "metadata": {},
   "outputs": [
    {
     "name": "stdout",
     "output_type": "stream",
     "text": [
      "Bincount array C: [0 2 1 0 3]\n",
      "Resulting array A: [1 1 2 4 4 4]\n",
      "Bincount of A: [0 2 1 0 3]\n"
     ]
    }
   ],
   "source": [
    "import numpy as np\n",
    "\n",
    "# Example bincount array C\n",
    "C = np.array([0, 2, 1, 0, 3])\n",
    "\n",
    "# Initialize an empty list to store the values\n",
    "A = []\n",
    "\n",
    "# Iterate over the elements of C\n",
    "for value, count in enumerate(C):\n",
    "    A.extend([value] * count)\n",
    "\n",
    "# Convert the list to a numpy array\n",
    "A = np.array(A)\n",
    "\n",
    "print(\"Bincount array C:\", C)\n",
    "print(\"Resulting array A:\", A)\n",
    "print(\"Bincount of A:\", np.bincount(A))\n"
   ]
  },
  {
   "cell_type": "markdown",
   "id": "d550c8e2",
   "metadata": {},
   "source": [
    "#### 75. How to compute averages using a sliding window over an array? (★★★)"
   ]
  },
  {
   "cell_type": "code",
   "execution_count": 65,
   "id": "841c457c",
   "metadata": {},
   "outputs": [
    {
     "name": "stdout",
     "output_type": "stream",
     "text": [
      "Original array: [ 1  2  3  4  5  6  7  8  9 10]\n",
      "Sliding window averages: [2. 3. 4. 5. 6. 7. 8. 9.]\n"
     ]
    }
   ],
   "source": [
    "import numpy as np\n",
    "\n",
    "# Example array\n",
    "array = np.array([1, 2, 3, 4, 5, 6, 7, 8, 9, 10])\n",
    "\n",
    "# Define the window size\n",
    "window_size = 3\n",
    "\n",
    "# Create the window (all elements are 1)\n",
    "window = np.ones(window_size)\n",
    "\n",
    "# Compute the sliding window averages using convolution\n",
    "averages = np.convolve(array, window, mode='valid') / window_size\n",
    "\n",
    "print(\"Original array:\", array)\n",
    "print(\"Sliding window averages:\", averages)\n"
   ]
  },
  {
   "cell_type": "markdown",
   "id": "6b170b00",
   "metadata": {},
   "source": [
    "#### 76. Consider a one-dimensional array Z, build a two-dimensional array whose first row is (Z[0],Z[1],Z[2]) and each subsequent row is  shifted by 1 (last row should be (Z[-3],Z[-2],Z[-1]) (★★★)"
   ]
  },
  {
   "cell_type": "code",
   "execution_count": 66,
   "id": "d9a0cf4e",
   "metadata": {},
   "outputs": [],
   "source": [
    "import numpy as np\n",
    "\n",
    "# Example one-dimensional array Z\n",
    "Z = np.array([1, 2, 3, 4, 5, 6, 7, 8, 9])\n",
    "\n",
    "# Define the size of the subarrays\n",
    "subarray_size = 3\n",
    "\n",
    "# Initialize the two-dimensional"
   ]
  },
  {
   "cell_type": "markdown",
   "id": "e94a5c1d",
   "metadata": {},
   "source": [
    "#### 77. How to negate a boolean, or to change the sign of a float inplace? (★★★)"
   ]
  },
  {
   "cell_type": "code",
   "execution_count": 67,
   "id": "c0f9504f",
   "metadata": {},
   "outputs": [
    {
     "name": "stdout",
     "output_type": "stream",
     "text": [
      "Negated boolean array: [False  True False  True]\n"
     ]
    }
   ],
   "source": [
    "import numpy as np\n",
    "\n",
    "# Create a boolean array\n",
    "bool_array = np.array([True, False, True, False])\n",
    "\n",
    "# Negate the boolean values in place\n",
    "np.logical_not(bool_array, out=bool_array)\n",
    "\n",
    "print(\"Negated boolean array:\", bool_array)\n"
   ]
  },
  {
   "cell_type": "markdown",
   "id": "4eb8b5c1",
   "metadata": {},
   "source": [
    "#### 78. Consider 2 sets of points P0,P1 describing lines (2d) and a point p, how to compute distance from p to each line i (P0[i],P1[i])? (★★★)"
   ]
  },
  {
   "cell_type": "code",
   "execution_count": 114,
   "id": "487f47ec",
   "metadata": {},
   "outputs": [],
   "source": [
    "import numpy as np\n",
    "\n",
    "def point_to_line_distance(p, P0, P1):\n",
    "    # Vector from P0 to P1\n",
    "    line_vec = P1 - P0\n",
    "    # Vector from P0 to p\n",
    "    p_vec = p - P0\n",
    "    # Line segment length squared\n",
    "    line_len_sq = np.sum(line_vec**2, axis=1)\n",
    "    # Projection of p_vec onto line_vec normalized\n",
    "    t = np.clip(np.sum(p_vec * line_vec, axis=1) / line_len_sq, 0, 1)\n",
    "    # Projection point on the line\n",
    "    projection = P0 + t[:, np.newaxis] * line_vec\n",
    "    # Distance from p to the projection\n",
    "    distance = np.sqrt(np.sum((projection)))"
   ]
  },
  {
   "cell_type": "markdown",
   "id": "3df99948",
   "metadata": {},
   "source": [
    "#### 79. Consider 2 sets of points P0,P1 describing lines (2d) and a set of points P, how to compute distance from each point j (P[j]) to each line i (P0[i],P1[i])? (★★★)"
   ]
  },
  {
   "cell_type": "code",
   "execution_count": 69,
   "id": "dc2df37b",
   "metadata": {},
   "outputs": [
    {
     "ename": "SyntaxError",
     "evalue": "incomplete input (3842845797.py, line 16)",
     "output_type": "error",
     "traceback": [
      "\u001b[1;36m  Cell \u001b[1;32mIn[69], line 16\u001b[1;36m\u001b[0m\n\u001b[1;33m    for i in range(num_lines\u001b[0m\n\u001b[1;37m                            ^\u001b[0m\n\u001b[1;31mSyntaxError\u001b[0m\u001b[1;31m:\u001b[0m incomplete input\n"
     ]
    }
   ],
   "source": [
    "import numpy as np\n",
    "\n",
    "# Example sets of points P0, P1, and P\n",
    "P0 = np.array([[0, 0], [1, 1], [2, 2]])\n",
    "P1 = np.array([[1, 0], [2, 1], [3, 2]])\n",
    "P = np.array([[1, 1], [2, 2], [3, 3]])\n",
    "\n",
    "# Number of lines and points\n",
    "num_lines = P0.shape[0]\n",
    "num_points = P.shape[0]\n",
    "\n",
    "# Initialize the distance matrix\n",
    "distances = np.zeros((num_points, num_lines))\n",
    "\n",
    "# Compute distances\n",
    "for i in range(num_lines"
   ]
  },
  {
   "cell_type": "markdown",
   "id": "11e972c2",
   "metadata": {},
   "source": [
    "#### 80. Consider an arbitrary array, write a function that extract a subpart with a fixed shape and centered on a given element (pad with a `fill` value when necessary) (★★★)"
   ]
  },
  {
   "cell_type": "code",
   "execution_count": 72,
   "id": "0291247f",
   "metadata": {},
   "outputs": [],
   "source": [
    "import numpy as np\n",
    "\n",
    "def extract_subpart(array, center, shape, fill_value=0):\n",
    "    \"\"\"\n",
    "    Extract a subpart of the array with the specified shape centered on the given element.\n",
    "    Pads with fill_value if necessary.\n",
    "\n",
    "    Parameters:\n",
    "    - array: Input numpy array\n",
    "    - center: Tuple indicating the center (row, col)\n",
    "    - shape: Tuple indicating the desired shape (height, width)\n",
    "    - fill_value: Value used for padding when necessary\n",
    "\n",
    "    Returns:\n",
    "    - subpart: Extracted subpart of the array with padding if needed\n",
    "    \"\"\"\n",
    "    center_row, center_col = center\n",
    "    height, width = shape\n",
    "    \n",
    "    # Calculate the start and end indices for the subpart\n",
    "    start_row = center_row - height // 2\n",
    "    end_row = start_row + height\n",
    "    start_col = center_col - width // 2\n",
    "    end_col = start_col + width\n",
    "    \n",
    "    # Initialize the output array with the fill value\n",
    "    subpart = np.full((height, width), fill_value, dtype=array.dtype)\n",
    "    \n",
    "    # Calculate the range of the original array to copy into the subpart\n",
    "    array_start_row = max(start_row, 0)\n",
    "    array_end_row = min(end_row, array.shape[0])\n",
    "    array_start_col = max(start_col, 0)\n",
    "    array_end_col = min(end_col, array.shape[1])\n",
    "    \n",
    "    # Calculate the"
   ]
  },
  {
   "cell_type": "markdown",
   "id": "93cfeab3",
   "metadata": {},
   "source": [
    "#### 81. Consider an array Z = [1,2,3,4,5,6,7,8,9,10,11,12,13,14], how to generate an array R = [[1,2,3,4], [2,3,4,5], [3,4,5,6], ..., [11,12,13,14]]? (★★★)"
   ]
  },
  {
   "cell_type": "code",
   "execution_count": 73,
   "id": "360de791",
   "metadata": {},
   "outputs": [],
   "source": [
    "import numpy as np\n",
    "\n",
    "# Define the original array Z\n",
    "Z = np.array([1, 2, 3, 4, 5, 6, 7, 8, 9, 10, 11, 12, 13, 14])\n",
    "\n",
    "# Generate the new array R\n",
    "R = np.array"
   ]
  },
  {
   "cell_type": "markdown",
   "id": "4c15ceff",
   "metadata": {},
   "source": [
    "#### 82. Compute a matrix rank (★★★)"
   ]
  },
  {
   "cell_type": "code",
   "execution_count": 74,
   "id": "9a4272d2",
   "metadata": {},
   "outputs": [
    {
     "name": "stdout",
     "output_type": "stream",
     "text": [
      "Matrix:\n",
      "[[1 2 3]\n",
      " [4 5 6]\n",
      " [7 8 9]]\n",
      "Rank of the matrix: 2\n"
     ]
    }
   ],
   "source": [
    "import numpy as np\n",
    "\n",
    "# Example matrix\n",
    "matrix = np.array([[1, 2, 3],\n",
    "                   [4, 5, 6],\n",
    "                   [7, 8, 9]])\n",
    "\n",
    "# Compute the rank of the matrix\n",
    "rank = np.linalg.matrix_rank(matrix)\n",
    "\n",
    "print(\"Matrix:\")\n",
    "print(matrix)\n",
    "print(\"Rank of the matrix:\", rank)\n"
   ]
  },
  {
   "cell_type": "markdown",
   "id": "1171cb84",
   "metadata": {},
   "source": [
    "#### 83. How to find the most frequent value in an array?"
   ]
  },
  {
   "cell_type": "code",
   "execution_count": 75,
   "id": "33e951c8",
   "metadata": {},
   "outputs": [
    {
     "name": "stdout",
     "output_type": "stream",
     "text": [
      "Array: [1 2 2 3 3 3 4 4 4 4]\n",
      "Most frequent value: 4\n"
     ]
    }
   ],
   "source": [
    "import numpy as np\n",
    "\n",
    "# Example array\n",
    "array = np.array([1, 2, 2, 3, 3, 3, 4, 4, 4, 4])\n",
    "\n",
    "# Find the most frequent value\n",
    "most_frequent_value = np.bincount(array).argmax()\n",
    "\n",
    "print(\"Array:\", array)\n",
    "print(\"Most frequent value:\", most_frequent_value)\n"
   ]
  },
  {
   "cell_type": "markdown",
   "id": "04f472aa",
   "metadata": {},
   "source": [
    "#### 84. Extract all the contiguous 3x3 blocks from a random 10x10 matrix (★★★)"
   ]
  },
  {
   "cell_type": "code",
   "execution_count": 78,
   "id": "7aade14a",
   "metadata": {},
   "outputs": [
    {
     "name": "stdout",
     "output_type": "stream",
     "text": [
      "Original 10x10 matrix:\n",
      "[[0.2981124  0.10879311 0.6246195  0.62555059 0.51529923 0.48985344\n",
      "  0.3765683  0.2119594  0.83544512 0.79465084]\n",
      " [0.25330601 0.45242204 0.73979929 0.6259486  0.67242213 0.66009074\n",
      "  0.26361077 0.94734642 0.25969209 0.70881346]\n",
      " [0.42202834 0.37800341 0.07701174 0.82141115 0.17208376 0.77252293\n",
      "  0.68831431 0.13866802 0.60112293 0.53045822]\n",
      " [0.79486768 0.6179101  0.38770167 0.32271631 0.16695586 0.08203803\n",
      "  0.72159472 0.97776408 0.69594686 0.94378991]\n",
      " [0.90580576 0.02992756 0.73050772 0.15007262 0.26102218 0.11483329\n",
      "  0.09703156 0.87778661 0.36859861 0.68459227]\n",
      " [0.67751192 0.91419502 0.6747714  0.65163824 0.8136652  0.96028797\n",
      "  0.01040349 0.09744494 0.07372789 0.07664247]\n",
      " [0.16316939 0.41066767 0.54454474 0.9188399  0.36313705 0.27130655\n",
      "  0.77877721 0.86214256 0.47099828 0.0568707 ]\n",
      " [0.95333172 0.17361183 0.95823097 0.64600903 0.10725447 0.51711989\n",
      "  0.90236507 0.20583309 0.02986347 0.10708004]\n",
      " [0.463593   0.93308711 0.41685243 0.76881802 0.41895896 0.59799896\n",
      "  0.39024186 0.80997933 0.24427529 0.44158617]\n",
      " [0.30753616 0.66230817 0.6043626  0.75169668 0.1322217  0.10276319\n",
      "  0.8206693  0.49064519 0.45414418 0.40478121]]\n",
      "\n",
      "List of 3x3 blocks:\n",
      "[[0.2981124  0.10879311 0.6246195 ]\n",
      " [0.25330601 0.45242204 0.73979929]\n",
      " [0.42202834 0.37800341 0.07701174]]\n",
      "[[0.10879311 0.6246195  0.62555059]\n",
      " [0.45242204 0.73979929 0.6259486 ]\n",
      " [0.37800341 0.07701174 0.82141115]]\n",
      "[[0.6246195  0.62555059 0.51529923]\n",
      " [0.73979929 0.6259486  0.67242213]\n",
      " [0.07701174 0.82141115 0.17208376]]\n",
      "[[0.62555059 0.51529923 0.48985344]\n",
      " [0.6259486  0.67242213 0.66009074]\n",
      " [0.82141115 0.17208376 0.77252293]]\n",
      "[[0.51529923 0.48985344 0.3765683 ]\n",
      " [0.67242213 0.66009074 0.26361077]\n",
      " [0.17208376 0.77252293 0.68831431]]\n",
      "[[0.48985344 0.3765683  0.2119594 ]\n",
      " [0.66009074 0.26361077 0.94734642]\n",
      " [0.77252293 0.68831431 0.13866802]]\n",
      "[[0.3765683  0.2119594  0.83544512]\n",
      " [0.26361077 0.94734642 0.25969209]\n",
      " [0.68831431 0.13866802 0.60112293]]\n",
      "[[0.2119594  0.83544512 0.79465084]\n",
      " [0.94734642 0.25969209 0.70881346]\n",
      " [0.13866802 0.60112293 0.53045822]]\n",
      "[[0.25330601 0.45242204 0.73979929]\n",
      " [0.42202834 0.37800341 0.07701174]\n",
      " [0.79486768 0.6179101  0.38770167]]\n",
      "[[0.45242204 0.73979929 0.6259486 ]\n",
      " [0.37800341 0.07701174 0.82141115]\n",
      " [0.6179101  0.38770167 0.32271631]]\n",
      "[[0.73979929 0.6259486  0.67242213]\n",
      " [0.07701174 0.82141115 0.17208376]\n",
      " [0.38770167 0.32271631 0.16695586]]\n",
      "[[0.6259486  0.67242213 0.66009074]\n",
      " [0.82141115 0.17208376 0.77252293]\n",
      " [0.32271631 0.16695586 0.08203803]]\n",
      "[[0.67242213 0.66009074 0.26361077]\n",
      " [0.17208376 0.77252293 0.68831431]\n",
      " [0.16695586 0.08203803 0.72159472]]\n",
      "[[0.66009074 0.26361077 0.94734642]\n",
      " [0.77252293 0.68831431 0.13866802]\n",
      " [0.08203803 0.72159472 0.97776408]]\n",
      "[[0.26361077 0.94734642 0.25969209]\n",
      " [0.68831431 0.13866802 0.60112293]\n",
      " [0.72159472 0.97776408 0.69594686]]\n",
      "[[0.94734642 0.25969209 0.70881346]\n",
      " [0.13866802 0.60112293 0.53045822]\n",
      " [0.97776408 0.69594686 0.94378991]]\n",
      "[[0.42202834 0.37800341 0.07701174]\n",
      " [0.79486768 0.6179101  0.38770167]\n",
      " [0.90580576 0.02992756 0.73050772]]\n",
      "[[0.37800341 0.07701174 0.82141115]\n",
      " [0.6179101  0.38770167 0.32271631]\n",
      " [0.02992756 0.73050772 0.15007262]]\n",
      "[[0.07701174 0.82141115 0.17208376]\n",
      " [0.38770167 0.32271631 0.16695586]\n",
      " [0.73050772 0.15007262 0.26102218]]\n",
      "[[0.82141115 0.17208376 0.77252293]\n",
      " [0.32271631 0.16695586 0.08203803]\n",
      " [0.15007262 0.26102218 0.11483329]]\n",
      "[[0.17208376 0.77252293 0.68831431]\n",
      " [0.16695586 0.08203803 0.72159472]\n",
      " [0.26102218 0.11483329 0.09703156]]\n",
      "[[0.77252293 0.68831431 0.13866802]\n",
      " [0.08203803 0.72159472 0.97776408]\n",
      " [0.11483329 0.09703156 0.87778661]]\n",
      "[[0.68831431 0.13866802 0.60112293]\n",
      " [0.72159472 0.97776408 0.69594686]\n",
      " [0.09703156 0.87778661 0.36859861]]\n",
      "[[0.13866802 0.60112293 0.53045822]\n",
      " [0.97776408 0.69594686 0.94378991]\n",
      " [0.87778661 0.36859861 0.68459227]]\n",
      "[[0.79486768 0.6179101  0.38770167]\n",
      " [0.90580576 0.02992756 0.73050772]\n",
      " [0.67751192 0.91419502 0.6747714 ]]\n",
      "[[0.6179101  0.38770167 0.32271631]\n",
      " [0.02992756 0.73050772 0.15007262]\n",
      " [0.91419502 0.6747714  0.65163824]]\n",
      "[[0.38770167 0.32271631 0.16695586]\n",
      " [0.73050772 0.15007262 0.26102218]\n",
      " [0.6747714  0.65163824 0.8136652 ]]\n",
      "[[0.32271631 0.16695586 0.08203803]\n",
      " [0.15007262 0.26102218 0.11483329]\n",
      " [0.65163824 0.8136652  0.96028797]]\n",
      "[[0.16695586 0.08203803 0.72159472]\n",
      " [0.26102218 0.11483329 0.09703156]\n",
      " [0.8136652  0.96028797 0.01040349]]\n",
      "[[0.08203803 0.72159472 0.97776408]\n",
      " [0.11483329 0.09703156 0.87778661]\n",
      " [0.96028797 0.01040349 0.09744494]]\n",
      "[[0.72159472 0.97776408 0.69594686]\n",
      " [0.09703156 0.87778661 0.36859861]\n",
      " [0.01040349 0.09744494 0.07372789]]\n",
      "[[0.97776408 0.69594686 0.94378991]\n",
      " [0.87778661 0.36859861 0.68459227]\n",
      " [0.09744494 0.07372789 0.07664247]]\n",
      "[[0.90580576 0.02992756 0.73050772]\n",
      " [0.67751192 0.91419502 0.6747714 ]\n",
      " [0.16316939 0.41066767 0.54454474]]\n",
      "[[0.02992756 0.73050772 0.15007262]\n",
      " [0.91419502 0.6747714  0.65163824]\n",
      " [0.41066767 0.54454474 0.9188399 ]]\n",
      "[[0.73050772 0.15007262 0.26102218]\n",
      " [0.6747714  0.65163824 0.8136652 ]\n",
      " [0.54454474 0.9188399  0.36313705]]\n",
      "[[0.15007262 0.26102218 0.11483329]\n",
      " [0.65163824 0.8136652  0.96028797]\n",
      " [0.9188399  0.36313705 0.27130655]]\n",
      "[[0.26102218 0.11483329 0.09703156]\n",
      " [0.8136652  0.96028797 0.01040349]\n",
      " [0.36313705 0.27130655 0.77877721]]\n",
      "[[0.11483329 0.09703156 0.87778661]\n",
      " [0.96028797 0.01040349 0.09744494]\n",
      " [0.27130655 0.77877721 0.86214256]]\n",
      "[[0.09703156 0.87778661 0.36859861]\n",
      " [0.01040349 0.09744494 0.07372789]\n",
      " [0.77877721 0.86214256 0.47099828]]\n",
      "[[0.87778661 0.36859861 0.68459227]\n",
      " [0.09744494 0.07372789 0.07664247]\n",
      " [0.86214256 0.47099828 0.0568707 ]]\n",
      "[[0.67751192 0.91419502 0.6747714 ]\n",
      " [0.16316939 0.41066767 0.54454474]\n",
      " [0.95333172 0.17361183 0.95823097]]\n",
      "[[0.91419502 0.6747714  0.65163824]\n",
      " [0.41066767 0.54454474 0.9188399 ]\n",
      " [0.17361183 0.95823097 0.64600903]]\n",
      "[[0.6747714  0.65163824 0.8136652 ]\n",
      " [0.54454474 0.9188399  0.36313705]\n",
      " [0.95823097 0.64600903 0.10725447]]\n",
      "[[0.65163824 0.8136652  0.96028797]\n",
      " [0.9188399  0.36313705 0.27130655]\n",
      " [0.64600903 0.10725447 0.51711989]]\n",
      "[[0.8136652  0.96028797 0.01040349]\n",
      " [0.36313705 0.27130655 0.77877721]\n",
      " [0.10725447 0.51711989 0.90236507]]\n",
      "[[0.96028797 0.01040349 0.09744494]\n",
      " [0.27130655 0.77877721 0.86214256]\n",
      " [0.51711989 0.90236507 0.20583309]]\n",
      "[[0.01040349 0.09744494 0.07372789]\n",
      " [0.77877721 0.86214256 0.47099828]\n",
      " [0.90236507 0.20583309 0.02986347]]\n",
      "[[0.09744494 0.07372789 0.07664247]\n",
      " [0.86214256 0.47099828 0.0568707 ]\n",
      " [0.20583309 0.02986347 0.10708004]]\n",
      "[[0.16316939 0.41066767 0.54454474]\n",
      " [0.95333172 0.17361183 0.95823097]\n",
      " [0.463593   0.93308711 0.41685243]]\n",
      "[[0.41066767 0.54454474 0.9188399 ]\n",
      " [0.17361183 0.95823097 0.64600903]\n",
      " [0.93308711 0.41685243 0.76881802]]\n",
      "[[0.54454474 0.9188399  0.36313705]\n",
      " [0.95823097 0.64600903 0.10725447]\n",
      " [0.41685243 0.76881802 0.41895896]]\n",
      "[[0.9188399  0.36313705 0.27130655]\n",
      " [0.64600903 0.10725447 0.51711989]\n",
      " [0.76881802 0.41895896 0.59799896]]\n",
      "[[0.36313705 0.27130655 0.77877721]\n",
      " [0.10725447 0.51711989 0.90236507]\n",
      " [0.41895896 0.59799896 0.39024186]]\n",
      "[[0.27130655 0.77877721 0.86214256]\n",
      " [0.51711989 0.90236507 0.20583309]\n",
      " [0.59799896 0.39024186 0.80997933]]\n",
      "[[0.77877721 0.86214256 0.47099828]\n",
      " [0.90236507 0.20583309 0.02986347]\n",
      " [0.39024186 0.80997933 0.24427529]]\n",
      "[[0.86214256 0.47099828 0.0568707 ]\n",
      " [0.20583309 0.02986347 0.10708004]\n",
      " [0.80997933 0.24427529 0.44158617]]\n",
      "[[0.95333172 0.17361183 0.95823097]\n",
      " [0.463593   0.93308711 0.41685243]\n",
      " [0.30753616 0.66230817 0.6043626 ]]\n",
      "[[0.17361183 0.95823097 0.64600903]\n",
      " [0.93308711 0.41685243 0.76881802]\n",
      " [0.66230817 0.6043626  0.75169668]]\n",
      "[[0.95823097 0.64600903 0.10725447]\n",
      " [0.41685243 0.76881802 0.41895896]\n",
      " [0.6043626  0.75169668 0.1322217 ]]\n",
      "[[0.64600903 0.10725447 0.51711989]\n",
      " [0.76881802 0.41895896 0.59799896]\n",
      " [0.75169668 0.1322217  0.10276319]]\n",
      "[[0.10725447 0.51711989 0.90236507]\n",
      " [0.41895896 0.59799896 0.39024186]\n",
      " [0.1322217  0.10276319 0.8206693 ]]\n",
      "[[0.51711989 0.90236507 0.20583309]\n",
      " [0.59799896 0.39024186 0.80997933]\n",
      " [0.10276319 0.8206693  0.49064519]]\n",
      "[[0.90236507 0.20583309 0.02986347]\n",
      " [0.39024186 0.80997933 0.24427529]\n",
      " [0.8206693  0.49064519 0.45414418]]\n",
      "[[0.20583309 0.02986347 0.10708004]\n",
      " [0.80997933 0.24427529 0.44158617]\n",
      " [0.49064519 0.45414418 0.40478121]]\n"
     ]
    }
   ],
   "source": [
    "import numpy as np\n",
    "\n",
    "# Create a random 10x10 matrix\n",
    "matrix = np.random.rand(10, 10)\n",
    "\n",
    "# Initialize a list to hold the 3x3 blocks\n",
    "blocks = []\n",
    "\n",
    "# Iterate over possible starting points for 3x3 blocks\n",
    "for i in range(matrix.shape[0] - 2):\n",
    "    for j in range(matrix.shape[1] - 2):\n",
    "        # Extract the 3x3 block\n",
    "        block = matrix[i:i+3, j:j+3]\n",
    "        blocks.append(block)  # Corrected line\n",
    "\n",
    "print(\"Original 10x10 matrix:\")\n",
    "print(matrix)\n",
    "\n",
    "print(\"\\nList of 3x3 blocks:\")\n",
    "for b in blocks:\n",
    "    print(b)\n"
   ]
  },
  {
   "cell_type": "markdown",
   "id": "52836346",
   "metadata": {},
   "source": [
    "#### 85. Create a 2D array subclass such that Z[i,j] == Z[j,i] (★★★)"
   ]
  },
  {
   "cell_type": "code",
   "execution_count": 80,
   "id": "4df70318",
   "metadata": {},
   "outputs": [],
   "source": [
    "import numpy as np\n",
    "\n",
    "class SymmetricArray(np.ndarray):\n",
    "    def __new__(cls, shape, *args, **kwargs):\n",
    "        # Ensure the shape is a square matrix\n",
    "        if shape[0] != shape[1]:\n",
    "            raise ValueError(\"Shape must be a square matrix\")\n",
    "        \n",
    "        # Create the array instance\n",
    "        obj = super().__new__(cls, shape, *args, **kwargs)\n",
    "        return obj\n",
    "\n",
    "    def __setitem__(self, index, value):\n",
    "        i, j = index\n",
    "        super().__setitem__((i, j), value)\n",
    "        super().__setitem__((j, i), value)\n",
    "\n",
    "# Example usage\n",
    "shape = (4,)"
   ]
  },
  {
   "cell_type": "markdown",
   "id": "78c43ee5",
   "metadata": {},
   "source": [
    "#### 86. Consider a set of p matrices with shape (n,n) and a set of p vectors with shape (n,1). How to compute the sum of of the p matrix products at once? (result has shape (n,1)) (★★★)"
   ]
  },
  {
   "cell_type": "code",
   "execution_count": 81,
   "id": "32fd2c3b",
   "metadata": {},
   "outputs": [
    {
     "name": "stdout",
     "output_type": "stream",
     "text": [
      "Matrices:\n",
      "[[[0.53687973 0.82934933 0.9034308  0.85384126]\n",
      "  [0.30927087 0.29736978 0.27018676 0.52237183]\n",
      "  [0.30215617 0.60068442 0.00400801 0.83184022]\n",
      "  [0.64221914 0.73661729 0.75152953 0.80321009]]\n",
      "\n",
      " [[0.30476363 0.6500167  0.60625086 0.96366789]\n",
      "  [0.83329283 0.24236634 0.94316551 0.78763534]\n",
      "  [0.97101291 0.73840935 0.96177323 0.98441058]\n",
      "  [0.6787396  0.95604312 0.08322718 0.60342702]]\n",
      "\n",
      " [[0.85762293 0.13160406 0.02381009 0.23736793]\n",
      "  [0.5142502  0.80296819 0.3146201  0.43778804]\n",
      "  [0.7232963  0.71551109 0.38290318 0.67089924]\n",
      "  [0.25434805 0.72572459 0.84582116 0.58678551]]]\n",
      "Vectors:\n",
      "[[[0.11435727]\n",
      "  [0.6696516 ]\n",
      "  [0.01011294]\n",
      "  [0.5708627 ]]\n",
      "\n",
      " [[0.95414534]\n",
      "  [0.63659212]\n",
      "  [0.32394069]\n",
      "  [0.45938779]]\n",
      "\n",
      " [[0.03159481]\n",
      "  [0.43558574]\n",
      "  [0.60834929]\n",
      "  [0.86984598]]]\n",
      "Sum of matrix products (result):\n",
      "[[2.76238426]\n",
      " [3.09038344]\n",
      " [4.22308356]\n",
      " [3.94235473]]\n"
     ]
    }
   ],
   "source": [
    "import numpy as np\n",
    "\n",
    "# Example matrices (p, n, n) and vectors (p, n, 1)\n",
    "p = 3\n",
    "n = 4\n",
    "matrices = np.random.rand(p, n, n)\n",
    "vectors = np.random.rand(p, n, 1)\n",
    "\n",
    "# Compute the matrix products\n",
    "products = np.matmul(matrices, vectors)\n",
    "\n",
    "# Sum the results across the first axis\n",
    "result = np.sum(products, axis=0)\n",
    "\n",
    "print(\"Matrices:\")\n",
    "print(matrices)\n",
    "print(\"Vectors:\")\n",
    "print(vectors)\n",
    "print(\"Sum of matrix products (result):\")\n",
    "print(result)\n",
    "\n"
   ]
  },
  {
   "cell_type": "markdown",
   "id": "158f9945",
   "metadata": {},
   "source": [
    "#### 87. Consider a 16x16 array, how to get the block-sum (block size is 4x4)? (★★★)"
   ]
  },
  {
   "cell_type": "code",
   "execution_count": 82,
   "id": "5a9b808f",
   "metadata": {},
   "outputs": [
    {
     "name": "stdout",
     "output_type": "stream",
     "text": [
      "Original array:\n",
      "[[3.15818636e-02 3.23303918e-01 4.20437619e-01 6.31619236e-01\n",
      "  4.65372011e-01 8.53286584e-01 1.34282716e-01 4.34777088e-01\n",
      "  4.09715512e-01 2.29057760e-01 2.91609528e-01 8.18431369e-01\n",
      "  6.40710327e-01 9.40713047e-01 4.52125074e-01 4.97239822e-01]\n",
      " [9.98259232e-01 1.12630604e-01 7.94308005e-01 7.89845733e-01\n",
      "  9.02941580e-01 1.10204287e-01 4.64457683e-01 2.50392558e-01\n",
      "  7.59515322e-01 6.78075158e-01 5.26324825e-01 4.66482719e-01\n",
      "  2.59877542e-01 5.39019198e-01 6.53421372e-01 1.20303968e-01]\n",
      " [5.90511997e-01 3.72680405e-01 4.99928995e-01 7.31171074e-01\n",
      "  9.18451608e-01 1.94953167e-02 2.78356864e-01 2.95366747e-01\n",
      "  1.06210501e-01 6.32518551e-01 2.06838916e-01 6.38517916e-02\n",
      "  4.81180520e-01 6.43958139e-01 9.62581611e-01 5.10904726e-01]\n",
      " [7.28359753e-01 2.10277657e-01 3.34626602e-01 1.42592824e-01\n",
      "  7.20515295e-01 5.69696250e-02 7.92251485e-01 3.58058279e-01\n",
      "  7.49844793e-01 6.31982614e-01 6.73895883e-01 2.94169357e-01\n",
      "  3.95575476e-01 4.88945354e-01 5.87154250e-01 5.34038577e-02]\n",
      " [4.70400802e-01 5.82796570e-01 9.99158360e-01 2.87907204e-01\n",
      "  5.92507911e-01 6.99349173e-01 6.51787534e-01 7.71025244e-02\n",
      "  3.73481164e-01 7.75980358e-01 4.94406981e-01 6.90623893e-01\n",
      "  1.36512155e-01 3.34358430e-01 2.95596186e-01 5.09114198e-01]\n",
      " [6.48815304e-02 9.26299639e-01 6.08149848e-01 2.50649603e-01\n",
      "  3.56159969e-02 1.12563042e-01 2.00877770e-01 8.57913857e-01\n",
      "  9.00670524e-01 1.31378505e-01 5.09331200e-01 7.53788916e-01\n",
      "  8.96180427e-02 5.12806374e-01 4.82948881e-01 7.31975438e-01]\n",
      " [1.81713409e-01 8.89086232e-01 9.56386449e-01 6.69752553e-02\n",
      "  4.59601599e-01 5.76336013e-01 1.21432795e-01 6.73888380e-04\n",
      "  7.23989981e-01 7.50017239e-01 8.58850608e-02 6.90290123e-01\n",
      "  8.64544217e-01 3.19257276e-01 5.83718556e-02 5.73998715e-01]\n",
      " [9.10519400e-01 7.51259450e-01 2.22167170e-01 9.16808112e-01\n",
      "  7.16136154e-01 8.82311974e-01 9.00924723e-01 7.38754847e-03\n",
      "  4.67153344e-01 7.80875572e-02 9.86378871e-01 2.63144723e-01\n",
      "  3.75773809e-01 8.28668025e-01 2.39832197e-01 2.46904126e-01]\n",
      " [8.58994653e-01 7.29510797e-01 4.63156303e-01 6.16404423e-01\n",
      "  5.92305624e-01 8.80689306e-02 2.18544783e-01 1.35782286e-02\n",
      "  6.12310551e-01 9.94261921e-01 4.46882242e-01 6.80143340e-04\n",
      "  8.39003391e-01 6.01820407e-01 4.51181742e-01 8.98681455e-01]\n",
      " [8.70875117e-01 7.26621607e-01 8.35748588e-01 8.88389826e-01\n",
      "  3.35524601e-01 7.11481992e-01 9.30103212e-01 2.59944285e-01\n",
      "  5.96611499e-01 8.85331819e-02 9.01203180e-01 9.90826913e-02\n",
      "  7.22745320e-01 8.52619098e-01 9.32220439e-02 5.40288390e-01]\n",
      " [3.14629573e-01 3.32815191e-01 2.66425031e-01 5.06788386e-01\n",
      "  5.74841422e-01 9.91542245e-01 9.04749709e-01 7.58443451e-01\n",
      "  1.24646732e-01 6.69882308e-01 6.15333918e-01 8.87237077e-01\n",
      "  3.30640310e-02 8.98253718e-01 5.08942808e-01 8.25366703e-02]\n",
      " [6.94334076e-01 4.69114110e-01 6.30747725e-02 8.99192836e-01\n",
      "  1.07298623e-01 3.73471879e-02 7.39226509e-01 2.28140552e-01\n",
      "  1.87413606e-01 5.55191720e-01 2.59064717e-01 6.75476192e-01\n",
      "  5.60064585e-01 7.70398816e-01 9.87776682e-01 9.21918719e-01]\n",
      " [7.83919039e-01 6.83471962e-02 8.67643133e-01 4.45436748e-01\n",
      "  9.65833210e-01 8.76462200e-02 9.93203112e-01 4.44402124e-03\n",
      "  8.39199761e-01 5.67735898e-01 6.50215956e-02 4.73826045e-01\n",
      "  7.96705378e-01 7.96897125e-01 5.56459047e-01 5.87575281e-01]\n",
      " [9.77434045e-01 1.25557841e-02 1.26736760e-01 8.54784450e-01\n",
      "  7.02259264e-01 1.76891577e-01 8.89559275e-01 7.99493069e-01\n",
      "  9.49662381e-01 2.87509226e-01 1.41840906e-01 2.31567025e-01\n",
      "  9.31489212e-01 7.96508260e-01 9.14962687e-01 5.36033278e-01]\n",
      " [5.93826985e-01 3.39571238e-01 8.99545686e-01 6.47007755e-01\n",
      "  6.88556991e-01 9.77968808e-01 1.85604196e-01 2.05778768e-01\n",
      "  5.98953543e-01 7.16806994e-01 2.81512049e-01 1.25257229e-01\n",
      "  3.98533719e-01 2.00684674e-01 2.86794745e-01 1.19637265e-01]\n",
      " [2.68443660e-01 9.21588774e-01 5.16713029e-01 4.92570764e-01\n",
      "  9.22197678e-01 1.32222027e-01 9.19553819e-01 9.68141027e-02\n",
      "  3.63834327e-01 8.98148430e-01 7.67021164e-01 8.56655662e-01\n",
      "  4.07296915e-01 8.66378225e-01 1.87084651e-02 6.12750826e-01]]\n",
      "\n",
      "Block sum:\n",
      "[[7.71213552 7.05517973 7.5385246  8.22711429]\n",
      " [9.08515903 6.8925225  8.67460844 6.60027993]\n",
      " [9.53607529 7.49114136 7.71381168 9.76251788]\n",
      " [8.81612505 8.74802614 8.16455224 8.8274151 ]]\n"
     ]
    }
   ],
   "source": [
    "import numpy as np\n",
    "\n",
    "# Create a 16x16 array\n",
    "array = np.random.rand(16, 16)\n",
    "\n",
    "# Reshape the array to create blocks and sum them\n",
    "block_size = 4\n",
    "block_sum = array.reshape(16//block_size, block_size, 16//block_size, block_size).sum(axis=(1, 3))\n",
    "\n",
    "print(\"Original array:\")\n",
    "print(array)\n",
    "print(\"\\nBlock sum:\")\n",
    "print(block_sum)\n"
   ]
  },
  {
   "cell_type": "markdown",
   "id": "2e0ad860",
   "metadata": {},
   "source": [
    "#### 88. How to implement the Game of Life using numpy arrays? (★★★)"
   ]
  },
  {
   "cell_type": "code",
   "execution_count": 83,
   "id": "574acff5",
   "metadata": {},
   "outputs": [
    {
     "ename": "SyntaxError",
     "evalue": "incomplete input (266786260.py, line 18)",
     "output_type": "error",
     "traceback": [
      "\u001b[1;36m  Cell \u001b[1;32mIn[83], line 18\u001b[1;36m\u001b[0m\n\u001b[1;33m    \"\"\" Update the grid\u001b[0m\n\u001b[1;37m    ^\u001b[0m\n\u001b[1;31mSyntaxError\u001b[0m\u001b[1;31m:\u001b[0m incomplete input\n"
     ]
    }
   ],
   "source": [
    "import numpy as np\n",
    "\n",
    "def initialize_grid(size):\n",
    "    \"\"\" Initialize the game grid with random 0s and 1s. \"\"\"\n",
    "    return np.random.randint(2, size=(size, size))\n",
    "\n",
    "def count_neighbors(grid):\n",
    "    \"\"\" Count the number of live neighbors for each cell. \"\"\"\n",
    "    neighbors = np.zeros(grid.shape, dtype=int)\n",
    "    for i in range(-1, 2):\n",
    "        for j in range(-1, 2):\n",
    "            if i == 0 and j == 0:\n",
    "                continue\n",
    "            neighbors += np.roll(np.roll(grid, i, axis=0), j, axis=1)\n",
    "    return neighbors\n",
    "\n",
    "def update_grid(grid):\n",
    "    \"\"\" Update the grid"
   ]
  },
  {
   "cell_type": "markdown",
   "id": "69a892fa",
   "metadata": {},
   "source": [
    "#### 89. How to get the n largest values of an array (★★★)"
   ]
  },
  {
   "cell_type": "code",
   "execution_count": 84,
   "id": "21b2bd48",
   "metadata": {},
   "outputs": [
    {
     "name": "stdout",
     "output_type": "stream",
     "text": [
      "Original array: [ 1  3  5  7  2  8  6  4 10  9]\n",
      "The 3 largest values: [ 8  9 10]\n"
     ]
    }
   ],
   "source": [
    "import numpy as np\n",
    "\n",
    "# Example array\n",
    "array = np.array([1, 3, 5, 7, 2, 8, 6, 4, 10, 9])\n",
    "\n",
    "# Number of largest values to get\n",
    "n = 3\n",
    "\n",
    "# Get the indices of the n largest values\n",
    "largest_indices = np.argsort(array)[-n:]\n",
    "\n",
    "# Get the n largest values\n",
    "largest_values = array[largest_indices]\n",
    "\n",
    "print(\"Original array:\", array)\n",
    "print(f\"The {n} largest values:\", largest_values)\n"
   ]
  },
  {
   "cell_type": "markdown",
   "id": "b55ccacc",
   "metadata": {},
   "source": [
    "#### 90. Given an arbitrary number of vectors, build the cartesian product (every combinations of every item) (★★★)"
   ]
  },
  {
   "cell_type": "code",
   "execution_count": 85,
   "id": "4b645da4",
   "metadata": {},
   "outputs": [
    {
     "name": "stdout",
     "output_type": "stream",
     "text": [
      "Vectors:\n",
      "[1 2 3]\n",
      "[4 5]\n",
      "[6 7 8]\n",
      "\n",
      "Cartesian product:\n",
      "[[1 4 6]\n",
      " [1 4 7]\n",
      " [1 4 8]\n",
      " [1 5 6]\n",
      " [1 5 7]\n",
      " [1 5 8]\n",
      " [2 4 6]\n",
      " [2 4 7]\n",
      " [2 4 8]\n",
      " [2 5 6]\n",
      " [2 5 7]\n",
      " [2 5 8]\n",
      " [3 4 6]\n",
      " [3 4 7]\n",
      " [3 4 8]\n",
      " [3 5 6]\n",
      " [3 5 7]\n",
      " [3 5 8]]\n"
     ]
    }
   ],
   "source": [
    "import itertools\n",
    "import numpy as np\n",
    "\n",
    "# Example vectors\n",
    "vectors = [np.array([1, 2, 3]), np.array([4, 5]), np.array([6, 7, 8])]\n",
    "\n",
    "# Compute the Cartesian product\n",
    "cartesian_product = list(itertools.product(*vectors))\n",
    "\n",
    "# Convert the result to a numpy array (optional)\n",
    "cartesian_product_array = np.array(cartesian_product)\n",
    "\n",
    "print(\"Vectors:\")\n",
    "for v in vectors:\n",
    "    print(v)\n",
    "print(\"\\nCartesian product:\")\n",
    "print(cartesian_product_array)\n"
   ]
  },
  {
   "cell_type": "markdown",
   "id": "89187a23",
   "metadata": {},
   "source": [
    "#### 91. How to create a record array from a regular array? (★★★)"
   ]
  },
  {
   "cell_type": "code",
   "execution_count": 93,
   "id": "1dd15e63",
   "metadata": {},
   "outputs": [
    {
     "name": "stdout",
     "output_type": "stream",
     "text": [
      "Record array:\n",
      "[(1, 2, 3) (4, 5, 6) (7, 8, 9)]\n"
     ]
    }
   ],
   "source": [
    "import numpy as np\n",
    "\n",
    "# Regular array\n",
    "regular_array = np.array([[1, 2, 3], [4, 5, 6], [7, 8, 9]])\n",
    "\n",
    "# Define the data type for the fields\n",
    "dtype = [('field1', 'i4'), ('field2', 'i4'), ('field3', 'i4')]\n",
    "\n",
    "# Convert the regular array to a record array\n",
    "record_array = np.core.records.fromarrays(regular_array.T, dtype=dtype)\n",
    "\n",
    "print(\"Record array:\")\n",
    "print(record_array)\n"
   ]
  },
  {
   "cell_type": "markdown",
   "id": "aa70d4ca",
   "metadata": {},
   "source": [
    "#### 92. Consider a large vector Z, compute Z to the power of 3 using 3 different methods (★★★)"
   ]
  },
  {
   "cell_type": "code",
   "execution_count": 94,
   "id": "7cff1bf5",
   "metadata": {},
   "outputs": [
    {
     "name": "stdout",
     "output_type": "stream",
     "text": [
      "Method 1 result: [9.13982064e-03 9.31547900e-01 3.58098704e-01 ... 2.87972504e-05\n",
      " 5.51512882e-01 5.10787629e-02]\n"
     ]
    }
   ],
   "source": [
    "import numpy as np\n",
    "\n",
    "# Create a large vector Z\n",
    "Z = np.random.rand(1000000)\n",
    "\n",
    "# Method 1: Element-wise power using **\n",
    "Z_power3_method1 = Z ** 3\n",
    "\n",
    "print(\"Method 1 result:\", Z_power3_method1)\n"
   ]
  },
  {
   "cell_type": "markdown",
   "id": "5f79dd00",
   "metadata": {},
   "source": [
    "#### 93. Consider two arrays A and B of shape (8,3) and (2,2). How to find rows of A that contain elements of each row of B regardless of the order of the elements in B? (★★★)"
   ]
  },
  {
   "cell_type": "code",
   "execution_count": 95,
   "id": "20c105b2",
   "metadata": {},
   "outputs": [],
   "source": [
    "import numpy as np\n",
    "\n",
    "# Example arrays\n",
    "A = np.array([\n",
    "    [1, 2, 3],\n",
    "    [4, 5, 6],\n",
    "    [7, 8, 9],\n",
    "    [1, 4, 7],\n",
    "    [2, 5, 8],\n",
    "    [3, 6, 9],\n",
    "    [1, 2, 4],\n",
    "    [3, 5, 7]\n",
    "])\n",
    "B = np.array([\n",
    "    [1, 2],\n",
    "    [5, 6]\n",
    "])\n",
    "\n",
    "#"
   ]
  },
  {
   "cell_type": "markdown",
   "id": "a80570cd",
   "metadata": {},
   "source": [
    "#### 94. Considering a 10x3 matrix, extract rows with unequal values (e.g. [2,2,3]) (★★★)"
   ]
  },
  {
   "cell_type": "code",
   "execution_count": 110,
   "id": "84db8de1",
   "metadata": {},
   "outputs": [
    {
     "name": "stdout",
     "output_type": "stream",
     "text": [
      "Original matrix:\n",
      "[[1 2 3]\n",
      " [2 2 3]\n",
      " [3 3 3]\n",
      " [4 5 4]\n",
      " [5 5 5]\n",
      " [6 6 6]\n",
      " [7 8 9]\n",
      " [8 8 8]\n",
      " [9 1 1]\n",
      " [0 0 0]]\n",
      "\n",
      "Rows with unequal values:\n",
      "[[1 2 3]\n",
      " [2 2 3]\n",
      " [4 5 4]\n",
      " [7 8 9]\n",
      " [9 1 1]]\n"
     ]
    }
   ],
   "source": [
    "import numpy as np\n",
    "\n",
    "# Create an example 10x3 matrix\n",
    "matrix = np.array([\n",
    "    [1, 2, 3],\n",
    "    [2, 2, 3],\n",
    "    [3, 3, 3],\n",
    "    [4, 5, 4],\n",
    "    [5, 5, 5],\n",
    "    [6, 6, 6],\n",
    "    [7, 8, 9],\n",
    "    [8, 8, 8],\n",
    "    [9, 1, 1],\n",
    "    [0, 0, 0]\n",
    "])\n",
    "\n",
    "# Extract rows with unequal values\n",
    "unequal_rows = np.array([row for row in matrix if len(np.unique(row)) > 1])\n",
    "\n",
    "print(\"Original matrix:\")\n",
    "print(matrix)\n",
    "print(\"\\nRows with unequal values:\")\n",
    "print(unequal_rows)\n"
   ]
  },
  {
   "cell_type": "markdown",
   "id": "ba154f43",
   "metadata": {},
   "source": [
    "#### 95. Convert a vector of ints into a matrix binary representation (★★★)"
   ]
  },
  {
   "cell_type": "code",
   "execution_count": 108,
   "id": "cfa96e1b",
   "metadata": {},
   "outputs": [
    {
     "name": "stdout",
     "output_type": "stream",
     "text": [
      "Original vector:\n",
      "[ 1  2  3  4  5  6  7  8  9 10]\n",
      "\n",
      "Binary representation matrix:\n",
      "[[0 0 0 1]\n",
      " [0 0 1 0]\n",
      " [0 0 1 1]\n",
      " [0 1 0 0]\n",
      " [0 1 0 1]\n",
      " [0 1 1 0]\n",
      " [0 1 1 1]\n",
      " [1 0 0 0]\n",
      " [1 0 0 1]\n",
      " [1 0 1 0]]\n"
     ]
    }
   ],
   "source": [
    "import numpy as np\n",
    "\n",
    "# Example vector of integers\n",
    "vector = np.array([1, 2, 3, 4, 5, 6, 7, 8, 9, 10])\n",
    "\n",
    "# Determine the number of bits needed for the binary representation\n",
    "num_bits = np.ceil(np.log2(np.max(vector) + 1)).astype(int)\n",
    "\n",
    "# Function to convert an integer to binary representation with padding\n",
    "def int_to_binary_array(x, num_bits):\n",
    "    return np.array(list(np.binary_repr(x).zfill(num_bits))).astype(int)\n",
    "\n",
    "# Convert the vector into a matrix of binary representations\n",
    "binary_matrix = np.array([int_to_binary_array(x, num_bits) for x in vector])\n",
    "\n",
    "print(\"Original vector:\")\n",
    "print(vector)\n",
    "print(\"\\nBinary representation matrix:\")\n",
    "print(binary_matrix)\n"
   ]
  },
  {
   "cell_type": "markdown",
   "id": "420e2343",
   "metadata": {},
   "source": [
    "#### 96. Given a two dimensional array, how to extract unique rows? (★★★)"
   ]
  },
  {
   "cell_type": "code",
   "execution_count": 98,
   "id": "4680dfd0",
   "metadata": {},
   "outputs": [
    {
     "name": "stdout",
     "output_type": "stream",
     "text": [
      "Original array:\n",
      "[[1 2 3]\n",
      " [4 5 6]\n",
      " [1 2 3]\n",
      " [7 8 9]\n",
      " [4 5 6]]\n",
      "\n",
      "Unique rows:\n",
      "[[1 2 3]\n",
      " [4 5 6]\n",
      " [7 8 9]]\n"
     ]
    }
   ],
   "source": [
    "import numpy as np\n",
    "\n",
    "# Example two-dimensional array\n",
    "array = np.array([\n",
    "    [1, 2, 3],\n",
    "    [4, 5, 6],\n",
    "    [1, 2, 3],\n",
    "    [7, 8, 9],\n",
    "    [4, 5, 6]\n",
    "])\n",
    "\n",
    "# Extract unique rows\n",
    "unique_rows = np.unique(array, axis=0)\n",
    "\n",
    "print(\"Original array:\")\n",
    "print(array)\n",
    "print(\"\\nUnique rows:\")\n",
    "print(unique_rows)\n"
   ]
  },
  {
   "cell_type": "markdown",
   "id": "89fef2f3",
   "metadata": {},
   "source": [
    "#### 97. Considering 2 vectors A & B, write the einsum equivalent of inner, outer, sum, and mul function (★★★)"
   ]
  },
  {
   "cell_type": "code",
   "execution_count": 99,
   "id": "bb9c14b2",
   "metadata": {},
   "outputs": [
    {
     "name": "stdout",
     "output_type": "stream",
     "text": [
      "Inner product: 32\n"
     ]
    }
   ],
   "source": [
    "import numpy as np\n",
    "\n",
    "A = np.array([1, 2, 3])\n",
    "B = np.array([4, 5, 6])\n",
    "\n",
    "inner_product = np.einsum('i,i', A, B)\n",
    "print(\"Inner product:\", inner_product)\n"
   ]
  },
  {
   "cell_type": "markdown",
   "id": "7ad5cc5f",
   "metadata": {},
   "source": [
    "#### 98. Considering a path described by two vectors (X,Y), how to sample it using equidistant samples (★★★)?"
   ]
  },
  {
   "cell_type": "code",
   "execution_count": 100,
   "id": "0899d1d5",
   "metadata": {},
   "outputs": [],
   "source": [
    "import numpy as np\n",
    "from scipy.interpolate import interp1d\n",
    "\n",
    "def sample_path_equidistant(X, Y, num_samples):\n",
    "    # Compute the distances between each consecutive points\n",
    "    distances = np.sqrt(np.diff(X)**2 + np.diff(Y)**2)\n",
    "    \n",
    "    # Compute the cumulative distances along the path\n",
    "    cumulative_distances = np.concatenate(([0], np.cumsum(distances)))\n",
    "\n",
    "    # Create the interpolation function for X and Y\n",
    "    interp_func_X = interp1d(cumulative_distances, X, kind='linear')\n",
    "    interp_func_Y = interp1d(cumulative_distances, Y, kind='linear')\n",
    "\n",
    "    # Define the new equidistant points\n",
    "    equidistant_points = np"
   ]
  },
  {
   "cell_type": "markdown",
   "id": "2b69272e",
   "metadata": {},
   "source": [
    "#### 99. Given an integer n and a 2D array X, select from X the rows which can be interpreted as draws from a multinomial distribution with n degrees, i.e., the rows which only contain integers and which sum to n. (★★★)"
   ]
  },
  {
   "cell_type": "code",
   "execution_count": 101,
   "id": "55c8b034",
   "metadata": {},
   "outputs": [],
   "source": [
    "import numpy as np\n",
    "\n",
    "def select_multinomial_rows(X, n):\n",
    "    # Check if each element is an integer and if the row sums to n\n",
    "    is_integer = np.all(np.mod(X, 1) == 0, axis=1)\n",
    "    sums_to_n = np.sum(X, axis=1) == n\n",
    "    valid_rows = np.where(is_integer & sums_to_n)[0]\n",
    "    return X[valid_rows]\n",
    "\n"
   ]
  },
  {
   "cell_type": "markdown",
   "id": "59ab5516",
   "metadata": {},
   "source": [
    "#### 100. Compute bootstrapped 95% confidence intervals for the mean of a 1D array X (i.e., resample the elements of an array with replacement N times, compute the mean of each sample, and then compute percentiles over the means). (★★★)"
   ]
  },
  {
   "cell_type": "code",
   "execution_count": 106,
   "id": "450877d8",
   "metadata": {},
   "outputs": [],
   "source": [
    "import numpy as np\n",
    "\n",
    "def bootstrap_confidence_interval(data, num_samples=1000, confidence_level=95):\n",
    "    \"\"\"\n",
    "    Compute bootstrapped confidence intervals for the mean of a 1D array.\n",
    "\n",
    "    Parameters:\n",
    "    - data: 1D numpy array\n",
    "    - num_samples: Number of bootstrap samples\n",
    "    - confidence_level: Confidence level for the interval (default is 95)\n",
    "\n",
    "    Returns:\n",
    "    - Tuple containing the lower and upper confidence intervals\n",
    "    \"\"\"\n",
    "    # Create an array to store the means of the bootstrap samples\n",
    "    bootstrapped_means = np.empty(num_samples)\n",
    "    \n",
    "    # Perform the bootstrap sampling\n",
    "    for i in range(num_samples):\n",
    "        # Resample with replacement from the data\n",
    "        sample = np.random.choice(data, size=len(data), replace=True)\n",
    "        # Compute the mean of the resampled data\n",
    "        bootstrapped_means[i] = np.mean(sample)\n",
    "    \n",
    "    # Compute the confidence interval\n",
    "    alpha = (100 - confidence_level) / 100\n",
    "    lower"
   ]
  },
  {
   "cell_type": "code",
   "execution_count": null,
   "id": "dc908382",
   "metadata": {},
   "outputs": [],
   "source": []
  }
 ],
 "metadata": {
  "kernelspec": {
   "display_name": "base",
   "language": "python",
   "name": "python3"
  },
  "language_info": {
   "codemirror_mode": {
    "name": "ipython",
    "version": 3
   },
   "file_extension": ".py",
   "mimetype": "text/x-python",
   "name": "python",
   "nbconvert_exporter": "python",
   "pygments_lexer": "ipython3",
   "version": "3.12.7"
  }
 },
 "nbformat": 4,
 "nbformat_minor": 5
}
